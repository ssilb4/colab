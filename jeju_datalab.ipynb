{
  "nbformat": 4,
  "nbformat_minor": 0,
  "metadata": {
    "colab": {
      "name": "jeju_datalab.ipynb",
      "provenance": [],
      "authorship_tag": "ABX9TyNl3RoFXAPs4ckQtBY0q+Zb",
      "include_colab_link": true
    },
    "kernelspec": {
      "name": "python3",
      "display_name": "Python 3"
    }
  },
  "cells": [
    {
      "cell_type": "markdown",
      "metadata": {
        "id": "view-in-github",
        "colab_type": "text"
      },
      "source": [
        "<a href=\"https://colab.research.google.com/github/ssilb4/colab/blob/jeju/jeju_datalab.ipynb\" target=\"_parent\"><img src=\"https://colab.research.google.com/assets/colab-badge.svg\" alt=\"Open In Colab\"/></a>"
      ]
    },
    {
      "cell_type": "code",
      "metadata": {
        "id": "76blBG0pnpXc",
        "colab_type": "code",
        "colab": {}
      },
      "source": [
        "import pandas as pd"
      ],
      "execution_count": 14,
      "outputs": []
    },
    {
      "cell_type": "code",
      "metadata": {
        "id": "L6MkIpMMqGQY",
        "colab_type": "code",
        "colab": {
          "base_uri": "https://localhost:8080/",
          "height": 322
        },
        "outputId": "28fe9655-8735-442a-e42e-68283be2eb34"
      },
      "source": [
        "df = pd.read_csv('https://raw.githubusercontent.com/ssilb4/gitflow/master/data/output_datalab.csv?token=AEXPY5HNMUZK6JR77K3SPD27D6FHC')"
      ],
      "execution_count": 15,
      "outputs": [
        {
          "output_type": "error",
          "ename": "HTTPError",
          "evalue": "ignored",
          "traceback": [
            "\u001b[0;31m---------------------------------------------------------------------------\u001b[0m",
            "\u001b[0;31mHTTPError\u001b[0m                                 Traceback (most recent call last)",
            "\u001b[0;32m<ipython-input-15-08aa0036883c>\u001b[0m in \u001b[0;36m<module>\u001b[0;34m()\u001b[0m\n\u001b[0;32m----> 1\u001b[0;31m \u001b[0mdf\u001b[0m \u001b[0;34m=\u001b[0m \u001b[0mpd\u001b[0m\u001b[0;34m.\u001b[0m\u001b[0mread_csv\u001b[0m\u001b[0;34m(\u001b[0m\u001b[0;34m'https://raw.githubusercontent.com/ssilb4/gitflow/master/data/output_datalab.csv?token=AEXPY5HNMUZK6JR77K3SPD27D6FHC'\u001b[0m\u001b[0;34m)\u001b[0m\u001b[0;34m\u001b[0m\u001b[0;34m\u001b[0m\u001b[0m\n\u001b[0m",
            "\u001b[0;32m/usr/local/lib/python3.6/dist-packages/pandas/io/parsers.py\u001b[0m in \u001b[0;36mparser_f\u001b[0;34m(filepath_or_buffer, sep, delimiter, header, names, index_col, usecols, squeeze, prefix, mangle_dupe_cols, dtype, engine, converters, true_values, false_values, skipinitialspace, skiprows, skipfooter, nrows, na_values, keep_default_na, na_filter, verbose, skip_blank_lines, parse_dates, infer_datetime_format, keep_date_col, date_parser, dayfirst, cache_dates, iterator, chunksize, compression, thousands, decimal, lineterminator, quotechar, quoting, doublequote, escapechar, comment, encoding, dialect, error_bad_lines, warn_bad_lines, delim_whitespace, low_memory, memory_map, float_precision)\u001b[0m\n\u001b[1;32m    674\u001b[0m         )\n\u001b[1;32m    675\u001b[0m \u001b[0;34m\u001b[0m\u001b[0m\n\u001b[0;32m--> 676\u001b[0;31m         \u001b[0;32mreturn\u001b[0m \u001b[0m_read\u001b[0m\u001b[0;34m(\u001b[0m\u001b[0mfilepath_or_buffer\u001b[0m\u001b[0;34m,\u001b[0m \u001b[0mkwds\u001b[0m\u001b[0;34m)\u001b[0m\u001b[0;34m\u001b[0m\u001b[0;34m\u001b[0m\u001b[0m\n\u001b[0m\u001b[1;32m    677\u001b[0m \u001b[0;34m\u001b[0m\u001b[0m\n\u001b[1;32m    678\u001b[0m     \u001b[0mparser_f\u001b[0m\u001b[0;34m.\u001b[0m\u001b[0m__name__\u001b[0m \u001b[0;34m=\u001b[0m \u001b[0mname\u001b[0m\u001b[0;34m\u001b[0m\u001b[0;34m\u001b[0m\u001b[0m\n",
            "\u001b[0;32m/usr/local/lib/python3.6/dist-packages/pandas/io/parsers.py\u001b[0m in \u001b[0;36m_read\u001b[0;34m(filepath_or_buffer, kwds)\u001b[0m\n\u001b[1;32m    429\u001b[0m     \u001b[0;31m# See https://github.com/python/mypy/issues/1297\u001b[0m\u001b[0;34m\u001b[0m\u001b[0;34m\u001b[0m\u001b[0;34m\u001b[0m\u001b[0m\n\u001b[1;32m    430\u001b[0m     fp_or_buf, _, compression, should_close = get_filepath_or_buffer(\n\u001b[0;32m--> 431\u001b[0;31m         \u001b[0mfilepath_or_buffer\u001b[0m\u001b[0;34m,\u001b[0m \u001b[0mencoding\u001b[0m\u001b[0;34m,\u001b[0m \u001b[0mcompression\u001b[0m\u001b[0;34m\u001b[0m\u001b[0;34m\u001b[0m\u001b[0m\n\u001b[0m\u001b[1;32m    432\u001b[0m     )\n\u001b[1;32m    433\u001b[0m     \u001b[0mkwds\u001b[0m\u001b[0;34m[\u001b[0m\u001b[0;34m\"compression\"\u001b[0m\u001b[0;34m]\u001b[0m \u001b[0;34m=\u001b[0m \u001b[0mcompression\u001b[0m\u001b[0;34m\u001b[0m\u001b[0;34m\u001b[0m\u001b[0m\n",
            "\u001b[0;32m/usr/local/lib/python3.6/dist-packages/pandas/io/common.py\u001b[0m in \u001b[0;36mget_filepath_or_buffer\u001b[0;34m(filepath_or_buffer, encoding, compression, mode)\u001b[0m\n\u001b[1;32m    170\u001b[0m \u001b[0;34m\u001b[0m\u001b[0m\n\u001b[1;32m    171\u001b[0m     \u001b[0;32mif\u001b[0m \u001b[0misinstance\u001b[0m\u001b[0;34m(\u001b[0m\u001b[0mfilepath_or_buffer\u001b[0m\u001b[0;34m,\u001b[0m \u001b[0mstr\u001b[0m\u001b[0;34m)\u001b[0m \u001b[0;32mand\u001b[0m \u001b[0mis_url\u001b[0m\u001b[0;34m(\u001b[0m\u001b[0mfilepath_or_buffer\u001b[0m\u001b[0;34m)\u001b[0m\u001b[0;34m:\u001b[0m\u001b[0;34m\u001b[0m\u001b[0;34m\u001b[0m\u001b[0m\n\u001b[0;32m--> 172\u001b[0;31m         \u001b[0mreq\u001b[0m \u001b[0;34m=\u001b[0m \u001b[0murlopen\u001b[0m\u001b[0;34m(\u001b[0m\u001b[0mfilepath_or_buffer\u001b[0m\u001b[0;34m)\u001b[0m\u001b[0;34m\u001b[0m\u001b[0;34m\u001b[0m\u001b[0m\n\u001b[0m\u001b[1;32m    173\u001b[0m         \u001b[0mcontent_encoding\u001b[0m \u001b[0;34m=\u001b[0m \u001b[0mreq\u001b[0m\u001b[0;34m.\u001b[0m\u001b[0mheaders\u001b[0m\u001b[0;34m.\u001b[0m\u001b[0mget\u001b[0m\u001b[0;34m(\u001b[0m\u001b[0;34m\"Content-Encoding\"\u001b[0m\u001b[0;34m,\u001b[0m \u001b[0;32mNone\u001b[0m\u001b[0;34m)\u001b[0m\u001b[0;34m\u001b[0m\u001b[0;34m\u001b[0m\u001b[0m\n\u001b[1;32m    174\u001b[0m         \u001b[0;32mif\u001b[0m \u001b[0mcontent_encoding\u001b[0m \u001b[0;34m==\u001b[0m \u001b[0;34m\"gzip\"\u001b[0m\u001b[0;34m:\u001b[0m\u001b[0;34m\u001b[0m\u001b[0;34m\u001b[0m\u001b[0m\n",
            "\u001b[0;32m/usr/local/lib/python3.6/dist-packages/pandas/io/common.py\u001b[0m in \u001b[0;36murlopen\u001b[0;34m(*args, **kwargs)\u001b[0m\n\u001b[1;32m    139\u001b[0m     \u001b[0;32mimport\u001b[0m \u001b[0murllib\u001b[0m\u001b[0;34m.\u001b[0m\u001b[0mrequest\u001b[0m\u001b[0;34m\u001b[0m\u001b[0;34m\u001b[0m\u001b[0m\n\u001b[1;32m    140\u001b[0m \u001b[0;34m\u001b[0m\u001b[0m\n\u001b[0;32m--> 141\u001b[0;31m     \u001b[0;32mreturn\u001b[0m \u001b[0murllib\u001b[0m\u001b[0;34m.\u001b[0m\u001b[0mrequest\u001b[0m\u001b[0;34m.\u001b[0m\u001b[0murlopen\u001b[0m\u001b[0;34m(\u001b[0m\u001b[0;34m*\u001b[0m\u001b[0margs\u001b[0m\u001b[0;34m,\u001b[0m \u001b[0;34m**\u001b[0m\u001b[0mkwargs\u001b[0m\u001b[0;34m)\u001b[0m\u001b[0;34m\u001b[0m\u001b[0;34m\u001b[0m\u001b[0m\n\u001b[0m\u001b[1;32m    142\u001b[0m \u001b[0;34m\u001b[0m\u001b[0m\n\u001b[1;32m    143\u001b[0m \u001b[0;34m\u001b[0m\u001b[0m\n",
            "\u001b[0;32m/usr/lib/python3.6/urllib/request.py\u001b[0m in \u001b[0;36murlopen\u001b[0;34m(url, data, timeout, cafile, capath, cadefault, context)\u001b[0m\n\u001b[1;32m    221\u001b[0m     \u001b[0;32melse\u001b[0m\u001b[0;34m:\u001b[0m\u001b[0;34m\u001b[0m\u001b[0;34m\u001b[0m\u001b[0m\n\u001b[1;32m    222\u001b[0m         \u001b[0mopener\u001b[0m \u001b[0;34m=\u001b[0m \u001b[0m_opener\u001b[0m\u001b[0;34m\u001b[0m\u001b[0;34m\u001b[0m\u001b[0m\n\u001b[0;32m--> 223\u001b[0;31m     \u001b[0;32mreturn\u001b[0m \u001b[0mopener\u001b[0m\u001b[0;34m.\u001b[0m\u001b[0mopen\u001b[0m\u001b[0;34m(\u001b[0m\u001b[0murl\u001b[0m\u001b[0;34m,\u001b[0m \u001b[0mdata\u001b[0m\u001b[0;34m,\u001b[0m \u001b[0mtimeout\u001b[0m\u001b[0;34m)\u001b[0m\u001b[0;34m\u001b[0m\u001b[0;34m\u001b[0m\u001b[0m\n\u001b[0m\u001b[1;32m    224\u001b[0m \u001b[0;34m\u001b[0m\u001b[0m\n\u001b[1;32m    225\u001b[0m \u001b[0;32mdef\u001b[0m \u001b[0minstall_opener\u001b[0m\u001b[0;34m(\u001b[0m\u001b[0mopener\u001b[0m\u001b[0;34m)\u001b[0m\u001b[0;34m:\u001b[0m\u001b[0;34m\u001b[0m\u001b[0;34m\u001b[0m\u001b[0m\n",
            "\u001b[0;32m/usr/lib/python3.6/urllib/request.py\u001b[0m in \u001b[0;36mopen\u001b[0;34m(self, fullurl, data, timeout)\u001b[0m\n\u001b[1;32m    530\u001b[0m         \u001b[0;32mfor\u001b[0m \u001b[0mprocessor\u001b[0m \u001b[0;32min\u001b[0m \u001b[0mself\u001b[0m\u001b[0;34m.\u001b[0m\u001b[0mprocess_response\u001b[0m\u001b[0;34m.\u001b[0m\u001b[0mget\u001b[0m\u001b[0;34m(\u001b[0m\u001b[0mprotocol\u001b[0m\u001b[0;34m,\u001b[0m \u001b[0;34m[\u001b[0m\u001b[0;34m]\u001b[0m\u001b[0;34m)\u001b[0m\u001b[0;34m:\u001b[0m\u001b[0;34m\u001b[0m\u001b[0;34m\u001b[0m\u001b[0m\n\u001b[1;32m    531\u001b[0m             \u001b[0mmeth\u001b[0m \u001b[0;34m=\u001b[0m \u001b[0mgetattr\u001b[0m\u001b[0;34m(\u001b[0m\u001b[0mprocessor\u001b[0m\u001b[0;34m,\u001b[0m \u001b[0mmeth_name\u001b[0m\u001b[0;34m)\u001b[0m\u001b[0;34m\u001b[0m\u001b[0;34m\u001b[0m\u001b[0m\n\u001b[0;32m--> 532\u001b[0;31m             \u001b[0mresponse\u001b[0m \u001b[0;34m=\u001b[0m \u001b[0mmeth\u001b[0m\u001b[0;34m(\u001b[0m\u001b[0mreq\u001b[0m\u001b[0;34m,\u001b[0m \u001b[0mresponse\u001b[0m\u001b[0;34m)\u001b[0m\u001b[0;34m\u001b[0m\u001b[0;34m\u001b[0m\u001b[0m\n\u001b[0m\u001b[1;32m    533\u001b[0m \u001b[0;34m\u001b[0m\u001b[0m\n\u001b[1;32m    534\u001b[0m         \u001b[0;32mreturn\u001b[0m \u001b[0mresponse\u001b[0m\u001b[0;34m\u001b[0m\u001b[0;34m\u001b[0m\u001b[0m\n",
            "\u001b[0;32m/usr/lib/python3.6/urllib/request.py\u001b[0m in \u001b[0;36mhttp_response\u001b[0;34m(self, request, response)\u001b[0m\n\u001b[1;32m    640\u001b[0m         \u001b[0;32mif\u001b[0m \u001b[0;32mnot\u001b[0m \u001b[0;34m(\u001b[0m\u001b[0;36m200\u001b[0m \u001b[0;34m<=\u001b[0m \u001b[0mcode\u001b[0m \u001b[0;34m<\u001b[0m \u001b[0;36m300\u001b[0m\u001b[0;34m)\u001b[0m\u001b[0;34m:\u001b[0m\u001b[0;34m\u001b[0m\u001b[0;34m\u001b[0m\u001b[0m\n\u001b[1;32m    641\u001b[0m             response = self.parent.error(\n\u001b[0;32m--> 642\u001b[0;31m                 'http', request, response, code, msg, hdrs)\n\u001b[0m\u001b[1;32m    643\u001b[0m \u001b[0;34m\u001b[0m\u001b[0m\n\u001b[1;32m    644\u001b[0m         \u001b[0;32mreturn\u001b[0m \u001b[0mresponse\u001b[0m\u001b[0;34m\u001b[0m\u001b[0;34m\u001b[0m\u001b[0m\n",
            "\u001b[0;32m/usr/lib/python3.6/urllib/request.py\u001b[0m in \u001b[0;36merror\u001b[0;34m(self, proto, *args)\u001b[0m\n\u001b[1;32m    568\u001b[0m         \u001b[0;32mif\u001b[0m \u001b[0mhttp_err\u001b[0m\u001b[0;34m:\u001b[0m\u001b[0;34m\u001b[0m\u001b[0;34m\u001b[0m\u001b[0m\n\u001b[1;32m    569\u001b[0m             \u001b[0margs\u001b[0m \u001b[0;34m=\u001b[0m \u001b[0;34m(\u001b[0m\u001b[0mdict\u001b[0m\u001b[0;34m,\u001b[0m \u001b[0;34m'default'\u001b[0m\u001b[0;34m,\u001b[0m \u001b[0;34m'http_error_default'\u001b[0m\u001b[0;34m)\u001b[0m \u001b[0;34m+\u001b[0m \u001b[0morig_args\u001b[0m\u001b[0;34m\u001b[0m\u001b[0;34m\u001b[0m\u001b[0m\n\u001b[0;32m--> 570\u001b[0;31m             \u001b[0;32mreturn\u001b[0m \u001b[0mself\u001b[0m\u001b[0;34m.\u001b[0m\u001b[0m_call_chain\u001b[0m\u001b[0;34m(\u001b[0m\u001b[0;34m*\u001b[0m\u001b[0margs\u001b[0m\u001b[0;34m)\u001b[0m\u001b[0;34m\u001b[0m\u001b[0;34m\u001b[0m\u001b[0m\n\u001b[0m\u001b[1;32m    571\u001b[0m \u001b[0;34m\u001b[0m\u001b[0m\n\u001b[1;32m    572\u001b[0m \u001b[0;31m# XXX probably also want an abstract factory that knows when it makes\u001b[0m\u001b[0;34m\u001b[0m\u001b[0;34m\u001b[0m\u001b[0;34m\u001b[0m\u001b[0m\n",
            "\u001b[0;32m/usr/lib/python3.6/urllib/request.py\u001b[0m in \u001b[0;36m_call_chain\u001b[0;34m(self, chain, kind, meth_name, *args)\u001b[0m\n\u001b[1;32m    502\u001b[0m         \u001b[0;32mfor\u001b[0m \u001b[0mhandler\u001b[0m \u001b[0;32min\u001b[0m \u001b[0mhandlers\u001b[0m\u001b[0;34m:\u001b[0m\u001b[0;34m\u001b[0m\u001b[0;34m\u001b[0m\u001b[0m\n\u001b[1;32m    503\u001b[0m             \u001b[0mfunc\u001b[0m \u001b[0;34m=\u001b[0m \u001b[0mgetattr\u001b[0m\u001b[0;34m(\u001b[0m\u001b[0mhandler\u001b[0m\u001b[0;34m,\u001b[0m \u001b[0mmeth_name\u001b[0m\u001b[0;34m)\u001b[0m\u001b[0;34m\u001b[0m\u001b[0;34m\u001b[0m\u001b[0m\n\u001b[0;32m--> 504\u001b[0;31m             \u001b[0mresult\u001b[0m \u001b[0;34m=\u001b[0m \u001b[0mfunc\u001b[0m\u001b[0;34m(\u001b[0m\u001b[0;34m*\u001b[0m\u001b[0margs\u001b[0m\u001b[0;34m)\u001b[0m\u001b[0;34m\u001b[0m\u001b[0;34m\u001b[0m\u001b[0m\n\u001b[0m\u001b[1;32m    505\u001b[0m             \u001b[0;32mif\u001b[0m \u001b[0mresult\u001b[0m \u001b[0;32mis\u001b[0m \u001b[0;32mnot\u001b[0m \u001b[0;32mNone\u001b[0m\u001b[0;34m:\u001b[0m\u001b[0;34m\u001b[0m\u001b[0;34m\u001b[0m\u001b[0m\n\u001b[1;32m    506\u001b[0m                 \u001b[0;32mreturn\u001b[0m \u001b[0mresult\u001b[0m\u001b[0;34m\u001b[0m\u001b[0;34m\u001b[0m\u001b[0m\n",
            "\u001b[0;32m/usr/lib/python3.6/urllib/request.py\u001b[0m in \u001b[0;36mhttp_error_default\u001b[0;34m(self, req, fp, code, msg, hdrs)\u001b[0m\n\u001b[1;32m    648\u001b[0m \u001b[0;32mclass\u001b[0m \u001b[0mHTTPDefaultErrorHandler\u001b[0m\u001b[0;34m(\u001b[0m\u001b[0mBaseHandler\u001b[0m\u001b[0;34m)\u001b[0m\u001b[0;34m:\u001b[0m\u001b[0;34m\u001b[0m\u001b[0;34m\u001b[0m\u001b[0m\n\u001b[1;32m    649\u001b[0m     \u001b[0;32mdef\u001b[0m \u001b[0mhttp_error_default\u001b[0m\u001b[0;34m(\u001b[0m\u001b[0mself\u001b[0m\u001b[0;34m,\u001b[0m \u001b[0mreq\u001b[0m\u001b[0;34m,\u001b[0m \u001b[0mfp\u001b[0m\u001b[0;34m,\u001b[0m \u001b[0mcode\u001b[0m\u001b[0;34m,\u001b[0m \u001b[0mmsg\u001b[0m\u001b[0;34m,\u001b[0m \u001b[0mhdrs\u001b[0m\u001b[0;34m)\u001b[0m\u001b[0;34m:\u001b[0m\u001b[0;34m\u001b[0m\u001b[0;34m\u001b[0m\u001b[0m\n\u001b[0;32m--> 650\u001b[0;31m         \u001b[0;32mraise\u001b[0m \u001b[0mHTTPError\u001b[0m\u001b[0;34m(\u001b[0m\u001b[0mreq\u001b[0m\u001b[0;34m.\u001b[0m\u001b[0mfull_url\u001b[0m\u001b[0;34m,\u001b[0m \u001b[0mcode\u001b[0m\u001b[0;34m,\u001b[0m \u001b[0mmsg\u001b[0m\u001b[0;34m,\u001b[0m \u001b[0mhdrs\u001b[0m\u001b[0;34m,\u001b[0m \u001b[0mfp\u001b[0m\u001b[0;34m)\u001b[0m\u001b[0;34m\u001b[0m\u001b[0;34m\u001b[0m\u001b[0m\n\u001b[0m\u001b[1;32m    651\u001b[0m \u001b[0;34m\u001b[0m\u001b[0m\n\u001b[1;32m    652\u001b[0m \u001b[0;32mclass\u001b[0m \u001b[0mHTTPRedirectHandler\u001b[0m\u001b[0;34m(\u001b[0m\u001b[0mBaseHandler\u001b[0m\u001b[0;34m)\u001b[0m\u001b[0;34m:\u001b[0m\u001b[0;34m\u001b[0m\u001b[0;34m\u001b[0m\u001b[0m\n",
            "\u001b[0;31mHTTPError\u001b[0m: HTTP Error 404: Not Found"
          ]
        }
      ]
    },
    {
      "cell_type": "code",
      "metadata": {
        "id": "g5mMtncBqLZr",
        "colab_type": "code",
        "colab": {}
      },
      "source": [
        "df['위치'].unique()"
      ],
      "execution_count": null,
      "outputs": []
    },
    {
      "cell_type": "code",
      "metadata": {
        "id": "-gZBpp_BqMYr",
        "colab_type": "code",
        "colab": {}
      },
      "source": [
        "import matplotlib.pyplot as plt\n",
        "\n",
        "df_seoul = df[df['위치']=='서울특별시']\n",
        "df_seoul.index = pd.to_datetime(df_seoul[\"날짜\"],format=\"%Y%m%d\")\n"
      ],
      "execution_count": null,
      "outputs": []
    },
    {
      "cell_type": "code",
      "metadata": {
        "id": "W3gszROkwi-S",
        "colab_type": "code",
        "colab": {}
      },
      "source": [
        "import numpy as np"
      ],
      "execution_count": null,
      "outputs": []
    },
    {
      "cell_type": "code",
      "metadata": {
        "id": "D75afQ7wz_xO",
        "colab_type": "code",
        "colab": {}
      },
      "source": [
        "work_types=['eatery','fbeauty','hobbyenter','leisure','living','tour']"
      ],
      "execution_count": null,
      "outputs": []
    },
    {
      "cell_type": "code",
      "metadata": {
        "id": "np3l0kkCswQA",
        "colab_type": "code",
        "colab": {
          "base_uri": "https://localhost:8080/",
          "height": 276
        },
        "outputId": "e15bc505-6565-40a2-8af2-083cb1bd82b8"
      },
      "source": [
        "index = 0\n",
        "colors = ['ro','bo','mo','yo','go','co']\n",
        "for work_type in df['업종'].drop_duplicates():\n",
        "  df_seoul = df[(df['위치']=='서울특별시') & (df['업종']==work_type)]\n",
        "  df_seoul.index = pd.to_datetime(df_seoul[\"날짜\"],format=\"%Y%m%d\")\n",
        "  plt.plot(df_seoul.index,df_seoul['매출'],colors[index], label=work_types[index])\n",
        "  index += 1\n",
        "  #plt.ylabel('some numbers')\n",
        "plt.legend()\n",
        "plt.show()"
      ],
      "execution_count": 34,
      "outputs": [
        {
          "output_type": "display_data",
          "data": {
            "image/png": "[encoded data removed]",
            "text/plain": [
              "<Figure size 432x288 with 1 Axes>"
            ]
          },
          "metadata": {
            "tags": [],
            "needs_background": "light"
          }
        }
      ]
    },
    {
      "cell_type": "code",
      "metadata": {
        "id": "LaerRmM5y3uo",
        "colab_type": "code",
        "colab": {
          "base_uri": "https://localhost:8080/",
          "height": 276
        },
        "outputId": "e870fb81-5949-4f16-8f69-7e55b4bb8b2d"
      },
      "source": [
        "index = 0\n",
        "colors = ['ro','bo','mo','yo','go','co']\n",
        "for work_type in df['업종'].drop_duplicates():\n",
        "  df_jeju = df[(df['위치']=='제주특별자치도') & (df['업종']==work_type)]\n",
        "  df_jeju.index = pd.to_datetime(df_jeju[\"날짜\"],format=\"%Y%m%d\")\n",
        "  plt.plot(df_jeju.index,df_jeju['매출'],colors[index], label=work_type)\n",
        "  index += 1\n",
        "  #plt.ylabel('some numbers')\n",
        "plt.legend()\n",
        "plt.show()"
      ],
      "execution_count": 16,
      "outputs": [
        {
          "output_type": "display_data",
          "data": {
            "image/png": "[encoded data removed]",
            "text/plain": [
              "<Figure size 432x288 with 1 Axes>"
            ]
          },
          "metadata": {
            "tags": [],
            "needs_background": "light"
          }
        }
      ]
    },
    {
      "cell_type": "code",
      "metadata": {
        "id": "DmMkx4q2g7zC",
        "colab_type": "code",
        "colab": {}
      },
      "source": [
        "df_group = df.groupby(['위치','날짜'],as_index=False).agg({\n",
        "    '매출':sum})"
      ],
      "execution_count": 68,
      "outputs": []
    },
    {
      "cell_type": "code",
      "metadata": {
        "id": "2dTWi_Hew_sy",
        "colab_type": "code",
        "colab": {
          "base_uri": "https://localhost:8080/",
          "height": 1000
        },
        "outputId": "1ed6b554-c602-4081-b79a-3718e7b70e07"
      },
      "source": [
        "index = 0\n",
        "locations=['GwangWon', 'GyeongGi', 'GyeongNam', 'GyeongBuk', 'GwangJu', 'DaeGu', 'DaeJeon', 'BuSan','Seoul', 'UlSan', 'InCheon', 'JeonNam', 'JeonBuk', 'JeJu','ChungNam', 'ChungBuk']\n",
        "colors = ['ro','bo','mo','yo','go','co',     'rs','bs','ms','ys','gs','cs',    'rd','bd','md','yd','gd','cd']\n",
        "plt.figure(figsize=(20,20))\n",
        "for location in df_group['위치'].drop_duplicates():\n",
        "  df_gorup2 = df_group[df_group['위치']==location]\n",
        "  df_gorup2.index = pd.to_datetime(df_gorup2[\"날짜\"],format=\"%Y%m%d\")\n",
        "  plt.plot(df_gorup2.index,df_gorup2['매출'], colors[index], label=locations[index])\n",
        "  index += 1\n",
        "  #break\n",
        "  #plt.ylabel('some numbers')\n",
        "plt.legend()\n",
        "plt.show()"
      ],
      "execution_count": 18,
      "outputs": [
        {
          "output_type": "display_data",
          "data": {
            "image/png": "[encoded data removed]",
            "text/plain": [
              "<Figure size 1440x1440 with 1 Axes>"
            ]
          },
          "metadata": {
            "tags": [],
            "needs_background": "light"
          }
        }
      ]
    },
    {
      "cell_type": "code",
      "metadata": {
        "id": "uCDxQkdyz184",
        "colab_type": "code",
        "colab": {
          "base_uri": "https://localhost:8080/",
          "height": 419
        },
        "outputId": "cf0b5e1a-a2d0-4c26-f26c-cbdd654921d1"
      },
      "source": [
        "df_group"
      ],
      "execution_count": 22,
      "outputs": [
        {
          "output_type": "execute_result",
          "data": {
            "text/html": [
              "<div>\n",
              "<style scoped>\n",
              "    .dataframe tbody tr th:only-of-type {\n",
              "        vertical-align: middle;\n",
              "    }\n",
              "\n",
              "    .dataframe tbody tr th {\n",
              "        vertical-align: top;\n",
              "    }\n",
              "\n",
              "    .dataframe thead th {\n",
              "        text-align: right;\n",
              "    }\n",
              "</style>\n",
              "<table border=\"1\" class=\"dataframe\">\n",
              "  <thead>\n",
              "    <tr style=\"text-align: right;\">\n",
              "      <th></th>\n",
              "      <th>위치</th>\n",
              "      <th>날짜</th>\n",
              "      <th>매출</th>\n",
              "    </tr>\n",
              "  </thead>\n",
              "  <tbody>\n",
              "    <tr>\n",
              "      <th>0</th>\n",
              "      <td>강원도</td>\n",
              "      <td>20190501</td>\n",
              "      <td>161927748</td>\n",
              "    </tr>\n",
              "    <tr>\n",
              "      <th>1</th>\n",
              "      <td>강원도</td>\n",
              "      <td>20190601</td>\n",
              "      <td>151123928</td>\n",
              "    </tr>\n",
              "    <tr>\n",
              "      <th>2</th>\n",
              "      <td>강원도</td>\n",
              "      <td>20190701</td>\n",
              "      <td>169376521</td>\n",
              "    </tr>\n",
              "    <tr>\n",
              "      <th>3</th>\n",
              "      <td>강원도</td>\n",
              "      <td>20190801</td>\n",
              "      <td>215660537</td>\n",
              "    </tr>\n",
              "    <tr>\n",
              "      <th>4</th>\n",
              "      <td>강원도</td>\n",
              "      <td>20190901</td>\n",
              "      <td>138718796</td>\n",
              "    </tr>\n",
              "    <tr>\n",
              "      <th>...</th>\n",
              "      <td>...</td>\n",
              "      <td>...</td>\n",
              "      <td>...</td>\n",
              "    </tr>\n",
              "    <tr>\n",
              "      <th>219</th>\n",
              "      <td>충청북도</td>\n",
              "      <td>20200201</td>\n",
              "      <td>82016676</td>\n",
              "    </tr>\n",
              "    <tr>\n",
              "      <th>220</th>\n",
              "      <td>충청북도</td>\n",
              "      <td>20200301</td>\n",
              "      <td>82122100</td>\n",
              "    </tr>\n",
              "    <tr>\n",
              "      <th>221</th>\n",
              "      <td>충청북도</td>\n",
              "      <td>20200401</td>\n",
              "      <td>95334733</td>\n",
              "    </tr>\n",
              "    <tr>\n",
              "      <th>222</th>\n",
              "      <td>충청북도</td>\n",
              "      <td>20200501</td>\n",
              "      <td>113669886</td>\n",
              "    </tr>\n",
              "    <tr>\n",
              "      <th>223</th>\n",
              "      <td>충청북도</td>\n",
              "      <td>20200601</td>\n",
              "      <td>100086455</td>\n",
              "    </tr>\n",
              "  </tbody>\n",
              "</table>\n",
              "<p>224 rows × 3 columns</p>\n",
              "</div>"
            ],
            "text/plain": [
              "       위치        날짜         매출\n",
              "0     강원도  20190501  161927748\n",
              "1     강원도  20190601  151123928\n",
              "2     강원도  20190701  169376521\n",
              "3     강원도  20190801  215660537\n",
              "4     강원도  20190901  138718796\n",
              "..    ...       ...        ...\n",
              "219  충청북도  20200201   82016676\n",
              "220  충청북도  20200301   82122100\n",
              "221  충청북도  20200401   95334733\n",
              "222  충청북도  20200501  113669886\n",
              "223  충청북도  20200601  100086455\n",
              "\n",
              "[224 rows x 3 columns]"
            ]
          },
          "metadata": {
            "tags": []
          },
          "execution_count": 22
        }
      ]
    },
    {
      "cell_type": "code",
      "metadata": {
        "id": "1LbaFqbZ2zak",
        "colab_type": "code",
        "colab": {
          "base_uri": "https://localhost:8080/",
          "height": 592
        },
        "outputId": "2678eb61-311c-4bda-a285-4b18aefc3818"
      },
      "source": [
        "index = 0\n",
        "locations=['GwangWon', 'GyeongGi', 'GyeongNam', 'GyeongBuk', 'GwangJu', 'DaeGu', 'DaeJeon', 'BuSan','Seoul', 'UlSan', 'InCheon', 'JeonNam', 'JeonBuk', 'JeJu','ChungNam', 'ChungBuk']\n",
        "colors = ['ro','bo','mo','yo','go','co',     'rs','bs','ms','ys','gs','cs',    'rd','bd','md','yd','gd','cd']\n",
        "plt.figure(figsize=(10,10))\n",
        "for location in df_group['위치'].drop_duplicates():\n",
        "  df_gorup2 = df_group[df_group['위치']==location]\n",
        "  df_gorup2.index = pd.to_datetime(df_gorup2[\"날짜\"],format=\"%Y%m%d\")\n",
        "  train_target = np.log1p(df_gorup2['매출'])\n",
        "  plt.plot(df_gorup2.index,train_target, colors[index], label=locations[index])\n",
        "  index += 1\n",
        "  #break\n",
        "  #plt.ylabel('some numbers')\n",
        "plt.legend()\n",
        "plt.show()"
      ],
      "execution_count": 23,
      "outputs": [
        {
          "output_type": "display_data",
          "data": {
            "image/png": "[encoded data removed]",
            "text/plain": [
              "<Figure size 720x720 with 1 Axes>"
            ]
          },
          "metadata": {
            "tags": [],
            "needs_background": "light"
          }
        }
      ]
    },
    {
      "cell_type": "code",
      "metadata": {
        "id": "F3or7nnVqkzc",
        "colab_type": "code",
        "colab": {}
      },
      "source": [
        "df_merge = pd.read_csv('https://raw.githubusercontent.com/ssilb4/gitflow/master/data/output_koreabank_datalab.csv?token=AEXPY5FKFKS33AOXH3YMWVC7D6ZD6')"
      ],
      "execution_count": 26,
      "outputs": []
    },
    {
      "cell_type": "code",
      "metadata": {
        "id": "i2FFuYrjNDhp",
        "colab_type": "code",
        "colab": {
          "base_uri": "https://localhost:8080/",
          "height": 419
        },
        "outputId": "84c161b6-6c14-4441-be7e-7755b96b3bfd"
      },
      "source": [
        "df_merge"
      ],
      "execution_count": 27,
      "outputs": [
        {
          "output_type": "execute_result",
          "data": {
            "text/html": [
              "<div>\n",
              "<style scoped>\n",
              "    .dataframe tbody tr th:only-of-type {\n",
              "        vertical-align: middle;\n",
              "    }\n",
              "\n",
              "    .dataframe tbody tr th {\n",
              "        vertical-align: top;\n",
              "    }\n",
              "\n",
              "    .dataframe thead th {\n",
              "        text-align: right;\n",
              "    }\n",
              "</style>\n",
              "<table border=\"1\" class=\"dataframe\">\n",
              "  <thead>\n",
              "    <tr style=\"text-align: right;\">\n",
              "      <th></th>\n",
              "      <th>REG_YYMM</th>\n",
              "      <th>CARD_SIDO_NM</th>\n",
              "      <th>STD_CLSS_NM</th>\n",
              "      <th>AMT</th>\n",
              "      <th>STD_CLSS_NM2</th>\n",
              "      <th>STD_CLSS_NM3</th>\n",
              "    </tr>\n",
              "  </thead>\n",
              "  <tbody>\n",
              "    <tr>\n",
              "      <th>0</th>\n",
              "      <td>201901</td>\n",
              "      <td>강원</td>\n",
              "      <td>건강보조식품 소매업</td>\n",
              "      <td>148354746</td>\n",
              "      <td>건강보조식품</td>\n",
              "      <td>eatery</td>\n",
              "    </tr>\n",
              "    <tr>\n",
              "      <th>1</th>\n",
              "      <td>201901</td>\n",
              "      <td>강원</td>\n",
              "      <td>골프장 운영업</td>\n",
              "      <td>1229200312</td>\n",
              "      <td>스포츠/오락/여가</td>\n",
              "      <td>leisure</td>\n",
              "    </tr>\n",
              "    <tr>\n",
              "      <th>2</th>\n",
              "      <td>201901</td>\n",
              "      <td>강원</td>\n",
              "      <td>과실 및 채소 소매업</td>\n",
              "      <td>1286979106</td>\n",
              "      <td>식료품</td>\n",
              "      <td>eatery</td>\n",
              "    </tr>\n",
              "    <tr>\n",
              "      <th>3</th>\n",
              "      <td>201901</td>\n",
              "      <td>강원</td>\n",
              "      <td>관광 민예품 및 선물용품 소매업</td>\n",
              "      <td>30656770</td>\n",
              "      <td>여행/교통</td>\n",
              "      <td>tour</td>\n",
              "    </tr>\n",
              "    <tr>\n",
              "      <th>4</th>\n",
              "      <td>201901</td>\n",
              "      <td>강원</td>\n",
              "      <td>그외 기타 스포츠시설 운영업</td>\n",
              "      <td>13101500</td>\n",
              "      <td>스포츠/오락/여가</td>\n",
              "      <td>leisure</td>\n",
              "    </tr>\n",
              "    <tr>\n",
              "      <th>...</th>\n",
              "      <td>...</td>\n",
              "      <td>...</td>\n",
              "      <td>...</td>\n",
              "      <td>...</td>\n",
              "      <td>...</td>\n",
              "      <td>...</td>\n",
              "    </tr>\n",
              "    <tr>\n",
              "      <th>9433</th>\n",
              "      <td>202003</td>\n",
              "      <td>충북</td>\n",
              "      <td>피자 햄버거 샌드위치 및 유사 음식점업</td>\n",
              "      <td>1315245299</td>\n",
              "      <td>숙박/음식</td>\n",
              "      <td>eatery</td>\n",
              "    </tr>\n",
              "    <tr>\n",
              "      <th>9434</th>\n",
              "      <td>202003</td>\n",
              "      <td>충북</td>\n",
              "      <td>한식 음식점업</td>\n",
              "      <td>16152482704</td>\n",
              "      <td>숙박/음식</td>\n",
              "      <td>eatery</td>\n",
              "    </tr>\n",
              "    <tr>\n",
              "      <th>9435</th>\n",
              "      <td>202003</td>\n",
              "      <td>충북</td>\n",
              "      <td>호텔업</td>\n",
              "      <td>15248550</td>\n",
              "      <td>숙박/음식</td>\n",
              "      <td>tour</td>\n",
              "    </tr>\n",
              "    <tr>\n",
              "      <th>9436</th>\n",
              "      <td>202003</td>\n",
              "      <td>충북</td>\n",
              "      <td>화장품 및 방향제 소매업</td>\n",
              "      <td>428881434</td>\n",
              "      <td>화장품</td>\n",
              "      <td>fbeauty</td>\n",
              "    </tr>\n",
              "    <tr>\n",
              "      <th>9437</th>\n",
              "      <td>202003</td>\n",
              "      <td>충북</td>\n",
              "      <td>휴양콘도 운영업</td>\n",
              "      <td>12733490</td>\n",
              "      <td>숙박/음식</td>\n",
              "      <td>tour</td>\n",
              "    </tr>\n",
              "  </tbody>\n",
              "</table>\n",
              "<p>9438 rows × 6 columns</p>\n",
              "</div>"
            ],
            "text/plain": [
              "      REG_YYMM CARD_SIDO_NM  ... STD_CLSS_NM2  STD_CLSS_NM3\n",
              "0       201901           강원  ...       건강보조식품        eatery\n",
              "1       201901           강원  ...    스포츠/오락/여가       leisure\n",
              "2       201901           강원  ...          식료품        eatery\n",
              "3       201901           강원  ...        여행/교통          tour\n",
              "4       201901           강원  ...    스포츠/오락/여가       leisure\n",
              "...        ...          ...  ...          ...           ...\n",
              "9433    202003           충북  ...        숙박/음식        eatery\n",
              "9434    202003           충북  ...        숙박/음식        eatery\n",
              "9435    202003           충북  ...        숙박/음식          tour\n",
              "9436    202003           충북  ...          화장품       fbeauty\n",
              "9437    202003           충북  ...        숙박/음식          tour\n",
              "\n",
              "[9438 rows x 6 columns]"
            ]
          },
          "metadata": {
            "tags": []
          },
          "execution_count": 27
        }
      ]
    },
    {
      "cell_type": "code",
      "metadata": {
        "id": "Ri8_6KsZ1VGu",
        "colab_type": "code",
        "colab": {}
      },
      "source": [
        "df_merge_group = df_merge.groupby(['REG_YYMM','CARD_SIDO_NM','STD_CLSS_NM3'],as_index=False).sum()"
      ],
      "execution_count": 38,
      "outputs": []
    },
    {
      "cell_type": "code",
      "metadata": {
        "id": "7TfREMIm3fEf",
        "colab_type": "code",
        "colab": {
          "base_uri": "https://localhost:8080/",
          "height": 419
        },
        "outputId": "e961d3c6-ca9e-439b-c230-24ca1b417dc7"
      },
      "source": [
        "df_merge_group[df_merge_group['CARD_SIDO_NM']=='제주']"
      ],
      "execution_count": 39,
      "outputs": [
        {
          "output_type": "execute_result",
          "data": {
            "text/html": [
              "<div>\n",
              "<style scoped>\n",
              "    .dataframe tbody tr th:only-of-type {\n",
              "        vertical-align: middle;\n",
              "    }\n",
              "\n",
              "    .dataframe tbody tr th {\n",
              "        vertical-align: top;\n",
              "    }\n",
              "\n",
              "    .dataframe thead th {\n",
              "        text-align: right;\n",
              "    }\n",
              "</style>\n",
              "<table border=\"1\" class=\"dataframe\">\n",
              "  <thead>\n",
              "    <tr style=\"text-align: right;\">\n",
              "      <th></th>\n",
              "      <th>REG_YYMM</th>\n",
              "      <th>CARD_SIDO_NM</th>\n",
              "      <th>STD_CLSS_NM3</th>\n",
              "      <th>AMT</th>\n",
              "    </tr>\n",
              "  </thead>\n",
              "  <tbody>\n",
              "    <tr>\n",
              "      <th>84</th>\n",
              "      <td>201901</td>\n",
              "      <td>제주</td>\n",
              "      <td>eatery</td>\n",
              "      <td>38388934219</td>\n",
              "    </tr>\n",
              "    <tr>\n",
              "      <th>85</th>\n",
              "      <td>201901</td>\n",
              "      <td>제주</td>\n",
              "      <td>fbeauty</td>\n",
              "      <td>673958785</td>\n",
              "    </tr>\n",
              "    <tr>\n",
              "      <th>86</th>\n",
              "      <td>201901</td>\n",
              "      <td>제주</td>\n",
              "      <td>hobbyenter</td>\n",
              "      <td>328629915</td>\n",
              "    </tr>\n",
              "    <tr>\n",
              "      <th>87</th>\n",
              "      <td>201901</td>\n",
              "      <td>제주</td>\n",
              "      <td>leisure</td>\n",
              "      <td>3003575455</td>\n",
              "    </tr>\n",
              "    <tr>\n",
              "      <th>88</th>\n",
              "      <td>201901</td>\n",
              "      <td>제주</td>\n",
              "      <td>living</td>\n",
              "      <td>34276557970</td>\n",
              "    </tr>\n",
              "    <tr>\n",
              "      <th>...</th>\n",
              "      <td>...</td>\n",
              "      <td>...</td>\n",
              "      <td>...</td>\n",
              "      <td>...</td>\n",
              "    </tr>\n",
              "    <tr>\n",
              "      <th>1513</th>\n",
              "      <td>202003</td>\n",
              "      <td>제주</td>\n",
              "      <td>fbeauty</td>\n",
              "      <td>467288060</td>\n",
              "    </tr>\n",
              "    <tr>\n",
              "      <th>1514</th>\n",
              "      <td>202003</td>\n",
              "      <td>제주</td>\n",
              "      <td>hobbyenter</td>\n",
              "      <td>55614730</td>\n",
              "    </tr>\n",
              "    <tr>\n",
              "      <th>1515</th>\n",
              "      <td>202003</td>\n",
              "      <td>제주</td>\n",
              "      <td>leisure</td>\n",
              "      <td>2982397499</td>\n",
              "    </tr>\n",
              "    <tr>\n",
              "      <th>1516</th>\n",
              "      <td>202003</td>\n",
              "      <td>제주</td>\n",
              "      <td>living</td>\n",
              "      <td>32898952053</td>\n",
              "    </tr>\n",
              "    <tr>\n",
              "      <th>1517</th>\n",
              "      <td>202003</td>\n",
              "      <td>제주</td>\n",
              "      <td>tour</td>\n",
              "      <td>3921070878</td>\n",
              "    </tr>\n",
              "  </tbody>\n",
              "</table>\n",
              "<p>90 rows × 4 columns</p>\n",
              "</div>"
            ],
            "text/plain": [
              "      REG_YYMM CARD_SIDO_NM STD_CLSS_NM3          AMT\n",
              "84      201901           제주       eatery  38388934219\n",
              "85      201901           제주      fbeauty    673958785\n",
              "86      201901           제주   hobbyenter    328629915\n",
              "87      201901           제주      leisure   3003575455\n",
              "88      201901           제주       living  34276557970\n",
              "...        ...          ...          ...          ...\n",
              "1513    202003           제주      fbeauty    467288060\n",
              "1514    202003           제주   hobbyenter     55614730\n",
              "1515    202003           제주      leisure   2982397499\n",
              "1516    202003           제주       living  32898952053\n",
              "1517    202003           제주         tour   3921070878\n",
              "\n",
              "[90 rows x 4 columns]"
            ]
          },
          "metadata": {
            "tags": []
          },
          "execution_count": 39
        }
      ]
    },
    {
      "cell_type": "code",
      "metadata": {
        "id": "qoSk0FDo3AuF",
        "colab_type": "code",
        "colab": {
          "base_uri": "https://localhost:8080/",
          "height": 276
        },
        "outputId": "6ced15f4-c9d9-4237-de44-171758225613"
      },
      "source": [
        "index = 0\n",
        "colors = ['ro','bo','mo','yo','go','co']\n",
        "for work_type in df_merge_group['STD_CLSS_NM3'].drop_duplicates():\n",
        "  df_merge2 = df_merge_group[(df_merge_group['CARD_SIDO_NM']=='제주') & (df_merge_group['STD_CLSS_NM3']==work_type)]\n",
        "  df_merge2.index = pd.to_datetime(df_merge2[\"REG_YYMM\"],format=\"%Y%m\")\n",
        "  plt.plot(df_merge2.index,df_merge2['AMT'],colors[index], label=work_type)\n",
        "  index += 1\n",
        "  #plt.ylabel('some numbers')\n",
        "plt.legend()\n",
        "plt.show()"
      ],
      "execution_count": 40,
      "outputs": [
        {
          "output_type": "display_data",
          "data": {
            "image/png": "[encoded data removed]",
            "text/plain": [
              "<Figure size 432x288 with 1 Axes>"
            ]
          },
          "metadata": {
            "tags": [],
            "needs_background": "light"
          }
        }
      ]
    },
    {
      "cell_type": "code",
      "metadata": {
        "id": "nYkRM9kJ9FGy",
        "colab_type": "code",
        "colab": {
          "base_uri": "https://localhost:8080/",
          "height": 341
        },
        "outputId": "3b5bd9de-6e1f-4233-eb74-a7285311f41a"
      },
      "source": [
        "df_merge_group2['CARD_SIDO_NM'].drop_duplicates()"
      ],
      "execution_count": 51,
      "outputs": [
        {
          "output_type": "execute_result",
          "data": {
            "text/plain": [
              "0      강원\n",
              "15     경기\n",
              "30     경남\n",
              "45     경북\n",
              "60     광주\n",
              "75     대구\n",
              "90     대전\n",
              "105    부산\n",
              "120    서울\n",
              "135    세종\n",
              "150    울산\n",
              "165    인천\n",
              "180    전남\n",
              "195    전북\n",
              "210    제주\n",
              "225    충남\n",
              "240    충북\n",
              "Name: CARD_SIDO_NM, dtype: object"
            ]
          },
          "metadata": {
            "tags": []
          },
          "execution_count": 51
        }
      ]
    },
    {
      "cell_type": "code",
      "metadata": {
        "id": "cR7kVvGn1rp9",
        "colab_type": "code",
        "colab": {
          "base_uri": "https://localhost:8080/",
          "height": 592
        },
        "outputId": "b92e6741-284c-433b-f4a8-f2c401204caf"
      },
      "source": [
        "index = 0\n",
        "locations=['GwangWon', 'GyeongGi', 'GyeongNam', 'GyeongBuk', 'GwangJu', 'DaeGu', 'DaeJeon', 'BuSan','Seoul', 'SeJong', 'UlSan', 'InCheon', 'JeonNam', 'JeonBuk', 'JeJu','ChungNam', 'ChungBuk']\n",
        "colors = ['ro','bo','mo','yo','go','co',     'rs','bs','ms','ys','gs','cs',    'rd','bd','md','yd','gd','cd']\n",
        "\n",
        "df_merge_group2 = df_merge.groupby(['CARD_SIDO_NM','REG_YYMM'],as_index=False).agg({\n",
        "    'AMT':sum})\n",
        "\n",
        "plt.figure(figsize=(10,10))\n",
        "for location in df_merge_group2['CARD_SIDO_NM'].drop_duplicates():\n",
        "  df_merge2 = df_merge_group2[df_merge_group2['CARD_SIDO_NM']==location]\n",
        "  df_merge2.index = pd.to_datetime(df_merge2[\"REG_YYMM\"],format=\"%Y%m\")\n",
        "  train_target = np.log1p(df_merge2['AMT'])\n",
        "  plt.plot(df_merge2.index,train_target, colors[index], label=locations[index])\n",
        "  index += 1\n",
        "  #break\n",
        "  #plt.ylabel('some numbers')\n",
        "plt.legend()\n",
        "plt.show()"
      ],
      "execution_count": 53,
      "outputs": [
        {
          "output_type": "display_data",
          "data": {
            "image/png": "[encoded data removed]",
            "text/plain": [
              "<Figure size 720x720 with 1 Axes>"
            ]
          },
          "metadata": {
            "tags": [],
            "needs_background": "light"
          }
        }
      ]
    },
    {
      "cell_type": "code",
      "metadata": {
        "id": "Xxk7XWIk2Dzp",
        "colab_type": "code",
        "colab": {
          "base_uri": "https://localhost:8080/",
          "height": 419
        },
        "outputId": "902f63f9-7c37-4c9c-95ac-851b7681907b"
      },
      "source": [
        "df_merge_group2"
      ],
      "execution_count": 54,
      "outputs": [
        {
          "output_type": "execute_result",
          "data": {
            "text/html": [
              "<div>\n",
              "<style scoped>\n",
              "    .dataframe tbody tr th:only-of-type {\n",
              "        vertical-align: middle;\n",
              "    }\n",
              "\n",
              "    .dataframe tbody tr th {\n",
              "        vertical-align: top;\n",
              "    }\n",
              "\n",
              "    .dataframe thead th {\n",
              "        text-align: right;\n",
              "    }\n",
              "</style>\n",
              "<table border=\"1\" class=\"dataframe\">\n",
              "  <thead>\n",
              "    <tr style=\"text-align: right;\">\n",
              "      <th></th>\n",
              "      <th>CARD_SIDO_NM</th>\n",
              "      <th>REG_YYMM</th>\n",
              "      <th>AMT</th>\n",
              "    </tr>\n",
              "  </thead>\n",
              "  <tbody>\n",
              "    <tr>\n",
              "      <th>0</th>\n",
              "      <td>강원</td>\n",
              "      <td>201901</td>\n",
              "      <td>106565971761</td>\n",
              "    </tr>\n",
              "    <tr>\n",
              "      <th>1</th>\n",
              "      <td>강원</td>\n",
              "      <td>201902</td>\n",
              "      <td>93631291707</td>\n",
              "    </tr>\n",
              "    <tr>\n",
              "      <th>2</th>\n",
              "      <td>강원</td>\n",
              "      <td>201903</td>\n",
              "      <td>100109898251</td>\n",
              "    </tr>\n",
              "    <tr>\n",
              "      <th>3</th>\n",
              "      <td>강원</td>\n",
              "      <td>201904</td>\n",
              "      <td>96789517029</td>\n",
              "    </tr>\n",
              "    <tr>\n",
              "      <th>4</th>\n",
              "      <td>강원</td>\n",
              "      <td>201905</td>\n",
              "      <td>113060688933</td>\n",
              "    </tr>\n",
              "    <tr>\n",
              "      <th>...</th>\n",
              "      <td>...</td>\n",
              "      <td>...</td>\n",
              "      <td>...</td>\n",
              "    </tr>\n",
              "    <tr>\n",
              "      <th>250</th>\n",
              "      <td>충북</td>\n",
              "      <td>201911</td>\n",
              "      <td>101781830737</td>\n",
              "    </tr>\n",
              "    <tr>\n",
              "      <th>251</th>\n",
              "      <td>충북</td>\n",
              "      <td>201912</td>\n",
              "      <td>101589774373</td>\n",
              "    </tr>\n",
              "    <tr>\n",
              "      <th>252</th>\n",
              "      <td>충북</td>\n",
              "      <td>202001</td>\n",
              "      <td>98809086174</td>\n",
              "    </tr>\n",
              "    <tr>\n",
              "      <th>253</th>\n",
              "      <td>충북</td>\n",
              "      <td>202002</td>\n",
              "      <td>81655095617</td>\n",
              "    </tr>\n",
              "    <tr>\n",
              "      <th>254</th>\n",
              "      <td>충북</td>\n",
              "      <td>202003</td>\n",
              "      <td>89186871346</td>\n",
              "    </tr>\n",
              "  </tbody>\n",
              "</table>\n",
              "<p>255 rows × 3 columns</p>\n",
              "</div>"
            ],
            "text/plain": [
              "    CARD_SIDO_NM  REG_YYMM           AMT\n",
              "0             강원    201901  106565971761\n",
              "1             강원    201902   93631291707\n",
              "2             강원    201903  100109898251\n",
              "3             강원    201904   96789517029\n",
              "4             강원    201905  113060688933\n",
              "..           ...       ...           ...\n",
              "250           충북    201911  101781830737\n",
              "251           충북    201912  101589774373\n",
              "252           충북    202001   98809086174\n",
              "253           충북    202002   81655095617\n",
              "254           충북    202003   89186871346\n",
              "\n",
              "[255 rows x 3 columns]"
            ]
          },
          "metadata": {
            "tags": []
          },
          "execution_count": 54
        }
      ]
    },
    {
      "cell_type": "code",
      "metadata": {
        "id": "vN8iBeLRERrd",
        "colab_type": "code",
        "colab": {}
      },
      "source": [
        "df_group_t = df_group.copy()\n",
        "df_group_t['날짜'] = df_group['날짜'].apply(lambda x: int(x/100))\n",
        "df_group_t['위치'] = df_group['위치'].apply(lambda x: x[0] + x[2] if (('북' in x) or ('남' in x))  else x[0:2])"
      ],
      "execution_count": 80,
      "outputs": []
    },
    {
      "cell_type": "code",
      "metadata": {
        "id": "yqzJSdHuEWgG",
        "colab_type": "code",
        "colab": {
          "base_uri": "https://localhost:8080/",
          "height": 419
        },
        "outputId": "deb30133-cfa4-4ea1-de4e-1516d98a90d2"
      },
      "source": [
        "df_group_t"
      ],
      "execution_count": 81,
      "outputs": [
        {
          "output_type": "execute_result",
          "data": {
            "text/html": [
              "<div>\n",
              "<style scoped>\n",
              "    .dataframe tbody tr th:only-of-type {\n",
              "        vertical-align: middle;\n",
              "    }\n",
              "\n",
              "    .dataframe tbody tr th {\n",
              "        vertical-align: top;\n",
              "    }\n",
              "\n",
              "    .dataframe thead th {\n",
              "        text-align: right;\n",
              "    }\n",
              "</style>\n",
              "<table border=\"1\" class=\"dataframe\">\n",
              "  <thead>\n",
              "    <tr style=\"text-align: right;\">\n",
              "      <th></th>\n",
              "      <th>위치</th>\n",
              "      <th>날짜</th>\n",
              "      <th>매출</th>\n",
              "    </tr>\n",
              "  </thead>\n",
              "  <tbody>\n",
              "    <tr>\n",
              "      <th>0</th>\n",
              "      <td>강원</td>\n",
              "      <td>201905</td>\n",
              "      <td>161927748</td>\n",
              "    </tr>\n",
              "    <tr>\n",
              "      <th>1</th>\n",
              "      <td>강원</td>\n",
              "      <td>201906</td>\n",
              "      <td>151123928</td>\n",
              "    </tr>\n",
              "    <tr>\n",
              "      <th>2</th>\n",
              "      <td>강원</td>\n",
              "      <td>201907</td>\n",
              "      <td>169376521</td>\n",
              "    </tr>\n",
              "    <tr>\n",
              "      <th>3</th>\n",
              "      <td>강원</td>\n",
              "      <td>201908</td>\n",
              "      <td>215660537</td>\n",
              "    </tr>\n",
              "    <tr>\n",
              "      <th>4</th>\n",
              "      <td>강원</td>\n",
              "      <td>201909</td>\n",
              "      <td>138718796</td>\n",
              "    </tr>\n",
              "    <tr>\n",
              "      <th>...</th>\n",
              "      <td>...</td>\n",
              "      <td>...</td>\n",
              "      <td>...</td>\n",
              "    </tr>\n",
              "    <tr>\n",
              "      <th>219</th>\n",
              "      <td>충북</td>\n",
              "      <td>202002</td>\n",
              "      <td>82016676</td>\n",
              "    </tr>\n",
              "    <tr>\n",
              "      <th>220</th>\n",
              "      <td>충북</td>\n",
              "      <td>202003</td>\n",
              "      <td>82122100</td>\n",
              "    </tr>\n",
              "    <tr>\n",
              "      <th>221</th>\n",
              "      <td>충북</td>\n",
              "      <td>202004</td>\n",
              "      <td>95334733</td>\n",
              "    </tr>\n",
              "    <tr>\n",
              "      <th>222</th>\n",
              "      <td>충북</td>\n",
              "      <td>202005</td>\n",
              "      <td>113669886</td>\n",
              "    </tr>\n",
              "    <tr>\n",
              "      <th>223</th>\n",
              "      <td>충북</td>\n",
              "      <td>202006</td>\n",
              "      <td>100086455</td>\n",
              "    </tr>\n",
              "  </tbody>\n",
              "</table>\n",
              "<p>224 rows × 3 columns</p>\n",
              "</div>"
            ],
            "text/plain": [
              "     위치      날짜         매출\n",
              "0    강원  201905  161927748\n",
              "1    강원  201906  151123928\n",
              "2    강원  201907  169376521\n",
              "3    강원  201908  215660537\n",
              "4    강원  201909  138718796\n",
              "..   ..     ...        ...\n",
              "219  충북  202002   82016676\n",
              "220  충북  202003   82122100\n",
              "221  충북  202004   95334733\n",
              "222  충북  202005  113669886\n",
              "223  충북  202006  100086455\n",
              "\n",
              "[224 rows x 3 columns]"
            ]
          },
          "metadata": {
            "tags": []
          },
          "execution_count": 81
        }
      ]
    },
    {
      "cell_type": "code",
      "metadata": {
        "id": "6Oc5sEpfE8ro",
        "colab_type": "code",
        "colab": {
          "base_uri": "https://localhost:8080/",
          "height": 419
        },
        "outputId": "1e6daaca-38ed-41cb-ddf5-70d312f0e4ed"
      },
      "source": [
        "df_merge_group2\n",
        "df_group_t"
      ],
      "execution_count": 83,
      "outputs": [
        {
          "output_type": "execute_result",
          "data": {
            "text/html": [
              "<div>\n",
              "<style scoped>\n",
              "    .dataframe tbody tr th:only-of-type {\n",
              "        vertical-align: middle;\n",
              "    }\n",
              "\n",
              "    .dataframe tbody tr th {\n",
              "        vertical-align: top;\n",
              "    }\n",
              "\n",
              "    .dataframe thead th {\n",
              "        text-align: right;\n",
              "    }\n",
              "</style>\n",
              "<table border=\"1\" class=\"dataframe\">\n",
              "  <thead>\n",
              "    <tr style=\"text-align: right;\">\n",
              "      <th></th>\n",
              "      <th>위치</th>\n",
              "      <th>날짜</th>\n",
              "      <th>매출</th>\n",
              "    </tr>\n",
              "  </thead>\n",
              "  <tbody>\n",
              "    <tr>\n",
              "      <th>0</th>\n",
              "      <td>강원</td>\n",
              "      <td>201905</td>\n",
              "      <td>161927748</td>\n",
              "    </tr>\n",
              "    <tr>\n",
              "      <th>1</th>\n",
              "      <td>강원</td>\n",
              "      <td>201906</td>\n",
              "      <td>151123928</td>\n",
              "    </tr>\n",
              "    <tr>\n",
              "      <th>2</th>\n",
              "      <td>강원</td>\n",
              "      <td>201907</td>\n",
              "      <td>169376521</td>\n",
              "    </tr>\n",
              "    <tr>\n",
              "      <th>3</th>\n",
              "      <td>강원</td>\n",
              "      <td>201908</td>\n",
              "      <td>215660537</td>\n",
              "    </tr>\n",
              "    <tr>\n",
              "      <th>4</th>\n",
              "      <td>강원</td>\n",
              "      <td>201909</td>\n",
              "      <td>138718796</td>\n",
              "    </tr>\n",
              "    <tr>\n",
              "      <th>...</th>\n",
              "      <td>...</td>\n",
              "      <td>...</td>\n",
              "      <td>...</td>\n",
              "    </tr>\n",
              "    <tr>\n",
              "      <th>219</th>\n",
              "      <td>충북</td>\n",
              "      <td>202002</td>\n",
              "      <td>82016676</td>\n",
              "    </tr>\n",
              "    <tr>\n",
              "      <th>220</th>\n",
              "      <td>충북</td>\n",
              "      <td>202003</td>\n",
              "      <td>82122100</td>\n",
              "    </tr>\n",
              "    <tr>\n",
              "      <th>221</th>\n",
              "      <td>충북</td>\n",
              "      <td>202004</td>\n",
              "      <td>95334733</td>\n",
              "    </tr>\n",
              "    <tr>\n",
              "      <th>222</th>\n",
              "      <td>충북</td>\n",
              "      <td>202005</td>\n",
              "      <td>113669886</td>\n",
              "    </tr>\n",
              "    <tr>\n",
              "      <th>223</th>\n",
              "      <td>충북</td>\n",
              "      <td>202006</td>\n",
              "      <td>100086455</td>\n",
              "    </tr>\n",
              "  </tbody>\n",
              "</table>\n",
              "<p>224 rows × 3 columns</p>\n",
              "</div>"
            ],
            "text/plain": [
              "     위치      날짜         매출\n",
              "0    강원  201905  161927748\n",
              "1    강원  201906  151123928\n",
              "2    강원  201907  169376521\n",
              "3    강원  201908  215660537\n",
              "4    강원  201909  138718796\n",
              "..   ..     ...        ...\n",
              "219  충북  202002   82016676\n",
              "220  충북  202003   82122100\n",
              "221  충북  202004   95334733\n",
              "222  충북  202005  113669886\n",
              "223  충북  202006  100086455\n",
              "\n",
              "[224 rows x 3 columns]"
            ]
          },
          "metadata": {
            "tags": []
          },
          "execution_count": 83
        }
      ]
    },
    {
      "cell_type": "code",
      "metadata": {
        "id": "V2WrU1y9OLuj",
        "colab_type": "code",
        "colab": {}
      },
      "source": [
        "df_merge_t = df_group_t.merge(df_merge_group2,left_on=['위치','날짜'],right_on=['CARD_SIDO_NM','REG_YYMM'])"
      ],
      "execution_count": 88,
      "outputs": []
    },
    {
      "cell_type": "code",
      "metadata": {
        "id": "ViqvWu-wOf9Y",
        "colab_type": "code",
        "colab": {
          "base_uri": "https://localhost:8080/",
          "height": 419
        },
        "outputId": "01e7ebcb-0685-464c-fd93-07aedee6bcd9"
      },
      "source": [
        "df_merge_t"
      ],
      "execution_count": 89,
      "outputs": [
        {
          "output_type": "execute_result",
          "data": {
            "text/html": [
              "<div>\n",
              "<style scoped>\n",
              "    .dataframe tbody tr th:only-of-type {\n",
              "        vertical-align: middle;\n",
              "    }\n",
              "\n",
              "    .dataframe tbody tr th {\n",
              "        vertical-align: top;\n",
              "    }\n",
              "\n",
              "    .dataframe thead th {\n",
              "        text-align: right;\n",
              "    }\n",
              "</style>\n",
              "<table border=\"1\" class=\"dataframe\">\n",
              "  <thead>\n",
              "    <tr style=\"text-align: right;\">\n",
              "      <th></th>\n",
              "      <th>위치</th>\n",
              "      <th>날짜</th>\n",
              "      <th>매출</th>\n",
              "      <th>CARD_SIDO_NM</th>\n",
              "      <th>REG_YYMM</th>\n",
              "      <th>AMT</th>\n",
              "    </tr>\n",
              "  </thead>\n",
              "  <tbody>\n",
              "    <tr>\n",
              "      <th>0</th>\n",
              "      <td>강원</td>\n",
              "      <td>201905</td>\n",
              "      <td>161927748</td>\n",
              "      <td>강원</td>\n",
              "      <td>201905</td>\n",
              "      <td>113060688933</td>\n",
              "    </tr>\n",
              "    <tr>\n",
              "      <th>1</th>\n",
              "      <td>강원</td>\n",
              "      <td>201906</td>\n",
              "      <td>151123928</td>\n",
              "      <td>강원</td>\n",
              "      <td>201906</td>\n",
              "      <td>108040224807</td>\n",
              "    </tr>\n",
              "    <tr>\n",
              "      <th>2</th>\n",
              "      <td>강원</td>\n",
              "      <td>201907</td>\n",
              "      <td>169376521</td>\n",
              "      <td>강원</td>\n",
              "      <td>201907</td>\n",
              "      <td>114448703434</td>\n",
              "    </tr>\n",
              "    <tr>\n",
              "      <th>3</th>\n",
              "      <td>강원</td>\n",
              "      <td>201908</td>\n",
              "      <td>215660537</td>\n",
              "      <td>강원</td>\n",
              "      <td>201908</td>\n",
              "      <td>138571658501</td>\n",
              "    </tr>\n",
              "    <tr>\n",
              "      <th>4</th>\n",
              "      <td>강원</td>\n",
              "      <td>201909</td>\n",
              "      <td>138718796</td>\n",
              "      <td>강원</td>\n",
              "      <td>201909</td>\n",
              "      <td>108344919044</td>\n",
              "    </tr>\n",
              "    <tr>\n",
              "      <th>...</th>\n",
              "      <td>...</td>\n",
              "      <td>...</td>\n",
              "      <td>...</td>\n",
              "      <td>...</td>\n",
              "      <td>...</td>\n",
              "      <td>...</td>\n",
              "    </tr>\n",
              "    <tr>\n",
              "      <th>171</th>\n",
              "      <td>충북</td>\n",
              "      <td>201911</td>\n",
              "      <td>106145231</td>\n",
              "      <td>충북</td>\n",
              "      <td>201911</td>\n",
              "      <td>101781830737</td>\n",
              "    </tr>\n",
              "    <tr>\n",
              "      <th>172</th>\n",
              "      <td>충북</td>\n",
              "      <td>201912</td>\n",
              "      <td>100486370</td>\n",
              "      <td>충북</td>\n",
              "      <td>201912</td>\n",
              "      <td>101589774373</td>\n",
              "    </tr>\n",
              "    <tr>\n",
              "      <th>173</th>\n",
              "      <td>충북</td>\n",
              "      <td>202001</td>\n",
              "      <td>95482300</td>\n",
              "      <td>충북</td>\n",
              "      <td>202001</td>\n",
              "      <td>98809086174</td>\n",
              "    </tr>\n",
              "    <tr>\n",
              "      <th>174</th>\n",
              "      <td>충북</td>\n",
              "      <td>202002</td>\n",
              "      <td>82016676</td>\n",
              "      <td>충북</td>\n",
              "      <td>202002</td>\n",
              "      <td>81655095617</td>\n",
              "    </tr>\n",
              "    <tr>\n",
              "      <th>175</th>\n",
              "      <td>충북</td>\n",
              "      <td>202003</td>\n",
              "      <td>82122100</td>\n",
              "      <td>충북</td>\n",
              "      <td>202003</td>\n",
              "      <td>89186871346</td>\n",
              "    </tr>\n",
              "  </tbody>\n",
              "</table>\n",
              "<p>176 rows × 6 columns</p>\n",
              "</div>"
            ],
            "text/plain": [
              "     위치      날짜         매출 CARD_SIDO_NM  REG_YYMM           AMT\n",
              "0    강원  201905  161927748           강원    201905  113060688933\n",
              "1    강원  201906  151123928           강원    201906  108040224807\n",
              "2    강원  201907  169376521           강원    201907  114448703434\n",
              "3    강원  201908  215660537           강원    201908  138571658501\n",
              "4    강원  201909  138718796           강원    201909  108344919044\n",
              "..   ..     ...        ...          ...       ...           ...\n",
              "171  충북  201911  106145231           충북    201911  101781830737\n",
              "172  충북  201912  100486370           충북    201912  101589774373\n",
              "173  충북  202001   95482300           충북    202001   98809086174\n",
              "174  충북  202002   82016676           충북    202002   81655095617\n",
              "175  충북  202003   82122100           충북    202003   89186871346\n",
              "\n",
              "[176 rows x 6 columns]"
            ]
          },
          "metadata": {
            "tags": []
          },
          "execution_count": 89
        }
      ]
    },
    {
      "cell_type": "code",
      "metadata": {
        "id": "WzcaMXIWPFsh",
        "colab_type": "code",
        "colab": {
          "base_uri": "https://localhost:8080/",
          "height": 307
        },
        "outputId": "9f00699a-0127-4380-f8ef-3dfe266e98ec"
      },
      "source": [
        "plt.plot(df_merge_t['매출'],df_merge_t['AMT'])"
      ],
      "execution_count": 91,
      "outputs": [
        {
          "output_type": "execute_result",
          "data": {
            "text/plain": [
              "[<matplotlib.lines.Line2D at 0x7fdffb76f438>]"
            ]
          },
          "metadata": {
            "tags": []
          },
          "execution_count": 91
        },
        {
          "output_type": "display_data",
          "data": {
            "image/png": "[encoded data removed]",
            "text/plain": [
              "<Figure size 432x288 with 1 Axes>"
            ]
          },
          "metadata": {
            "tags": [],
            "needs_background": "light"
          }
        }
      ]
    },
    {
      "cell_type": "code",
      "metadata": {
        "id": "LFeE4UbEPYZ0",
        "colab_type": "code",
        "colab": {
          "base_uri": "https://localhost:8080/",
          "height": 173
        },
        "outputId": "5ad57ab2-e654-429d-f1c0-e6094086994a"
      },
      "source": [
        "df_merge_t.corr()"
      ],
      "execution_count": 92,
      "outputs": [
        {
          "output_type": "execute_result",
          "data": {
            "text/html": [
              "<div>\n",
              "<style scoped>\n",
              "    .dataframe tbody tr th:only-of-type {\n",
              "        vertical-align: middle;\n",
              "    }\n",
              "\n",
              "    .dataframe tbody tr th {\n",
              "        vertical-align: top;\n",
              "    }\n",
              "\n",
              "    .dataframe thead th {\n",
              "        text-align: right;\n",
              "    }\n",
              "</style>\n",
              "<table border=\"1\" class=\"dataframe\">\n",
              "  <thead>\n",
              "    <tr style=\"text-align: right;\">\n",
              "      <th></th>\n",
              "      <th>날짜</th>\n",
              "      <th>매출</th>\n",
              "      <th>REG_YYMM</th>\n",
              "      <th>AMT</th>\n",
              "    </tr>\n",
              "  </thead>\n",
              "  <tbody>\n",
              "    <tr>\n",
              "      <th>날짜</th>\n",
              "      <td>1.000000</td>\n",
              "      <td>-0.060750</td>\n",
              "      <td>1.000000</td>\n",
              "      <td>-0.055292</td>\n",
              "    </tr>\n",
              "    <tr>\n",
              "      <th>매출</th>\n",
              "      <td>-0.060750</td>\n",
              "      <td>1.000000</td>\n",
              "      <td>-0.060750</td>\n",
              "      <td>0.981037</td>\n",
              "    </tr>\n",
              "    <tr>\n",
              "      <th>REG_YYMM</th>\n",
              "      <td>1.000000</td>\n",
              "      <td>-0.060750</td>\n",
              "      <td>1.000000</td>\n",
              "      <td>-0.055292</td>\n",
              "    </tr>\n",
              "    <tr>\n",
              "      <th>AMT</th>\n",
              "      <td>-0.055292</td>\n",
              "      <td>0.981037</td>\n",
              "      <td>-0.055292</td>\n",
              "      <td>1.000000</td>\n",
              "    </tr>\n",
              "  </tbody>\n",
              "</table>\n",
              "</div>"
            ],
            "text/plain": [
              "                날짜        매출  REG_YYMM       AMT\n",
              "날짜        1.000000 -0.060750  1.000000 -0.055292\n",
              "매출       -0.060750  1.000000 -0.060750  0.981037\n",
              "REG_YYMM  1.000000 -0.060750  1.000000 -0.055292\n",
              "AMT      -0.055292  0.981037 -0.055292  1.000000"
            ]
          },
          "metadata": {
            "tags": []
          },
          "execution_count": 92
        }
      ]
    },
    {
      "cell_type": "code",
      "metadata": {
        "id": "u-Ac6cuNUdAo",
        "colab_type": "code",
        "colab": {
          "base_uri": "https://localhost:8080/",
          "height": 408
        },
        "outputId": "0bb17a17-44a6-4315-9efa-d62318422e4e"
      },
      "source": [
        "seoul = df_merge_t[df_merge_t['위치']=='서울']\n",
        "print((seoul['AMT']/seoul['매출']).mean())\n",
        "\n",
        "df_merge_t[df_merge_t['위치']=='서울']"
      ],
      "execution_count": 101,
      "outputs": [
        {
          "output_type": "stream",
          "text": [
            "564.1612656121159\n"
          ],
          "name": "stdout"
        },
        {
          "output_type": "execute_result",
          "data": {
            "text/html": [
              "<div>\n",
              "<style scoped>\n",
              "    .dataframe tbody tr th:only-of-type {\n",
              "        vertical-align: middle;\n",
              "    }\n",
              "\n",
              "    .dataframe tbody tr th {\n",
              "        vertical-align: top;\n",
              "    }\n",
              "\n",
              "    .dataframe thead th {\n",
              "        text-align: right;\n",
              "    }\n",
              "</style>\n",
              "<table border=\"1\" class=\"dataframe\">\n",
              "  <thead>\n",
              "    <tr style=\"text-align: right;\">\n",
              "      <th></th>\n",
              "      <th>위치</th>\n",
              "      <th>날짜</th>\n",
              "      <th>매출</th>\n",
              "      <th>CARD_SIDO_NM</th>\n",
              "      <th>REG_YYMM</th>\n",
              "      <th>AMT</th>\n",
              "    </tr>\n",
              "  </thead>\n",
              "  <tbody>\n",
              "    <tr>\n",
              "      <th>88</th>\n",
              "      <td>서울</td>\n",
              "      <td>201905</td>\n",
              "      <td>2003754297</td>\n",
              "      <td>서울</td>\n",
              "      <td>201905</td>\n",
              "      <td>1057879226251</td>\n",
              "    </tr>\n",
              "    <tr>\n",
              "      <th>89</th>\n",
              "      <td>서울</td>\n",
              "      <td>201906</td>\n",
              "      <td>1846608299</td>\n",
              "      <td>서울</td>\n",
              "      <td>201906</td>\n",
              "      <td>1014410284692</td>\n",
              "    </tr>\n",
              "    <tr>\n",
              "      <th>90</th>\n",
              "      <td>서울</td>\n",
              "      <td>201907</td>\n",
              "      <td>1858854436</td>\n",
              "      <td>서울</td>\n",
              "      <td>201907</td>\n",
              "      <td>1037150538702</td>\n",
              "    </tr>\n",
              "    <tr>\n",
              "      <th>91</th>\n",
              "      <td>서울</td>\n",
              "      <td>201908</td>\n",
              "      <td>1865251777</td>\n",
              "      <td>서울</td>\n",
              "      <td>201908</td>\n",
              "      <td>1011825174305</td>\n",
              "    </tr>\n",
              "    <tr>\n",
              "      <th>92</th>\n",
              "      <td>서울</td>\n",
              "      <td>201909</td>\n",
              "      <td>1717807124</td>\n",
              "      <td>서울</td>\n",
              "      <td>201909</td>\n",
              "      <td>992187139385</td>\n",
              "    </tr>\n",
              "    <tr>\n",
              "      <th>93</th>\n",
              "      <td>서울</td>\n",
              "      <td>201910</td>\n",
              "      <td>1815604623</td>\n",
              "      <td>서울</td>\n",
              "      <td>201910</td>\n",
              "      <td>1015079007773</td>\n",
              "    </tr>\n",
              "    <tr>\n",
              "      <th>94</th>\n",
              "      <td>서울</td>\n",
              "      <td>201911</td>\n",
              "      <td>1782680446</td>\n",
              "      <td>서울</td>\n",
              "      <td>201911</td>\n",
              "      <td>986146232089</td>\n",
              "    </tr>\n",
              "    <tr>\n",
              "      <th>95</th>\n",
              "      <td>서울</td>\n",
              "      <td>201912</td>\n",
              "      <td>1852893452</td>\n",
              "      <td>서울</td>\n",
              "      <td>201912</td>\n",
              "      <td>1075946191707</td>\n",
              "    </tr>\n",
              "    <tr>\n",
              "      <th>96</th>\n",
              "      <td>서울</td>\n",
              "      <td>202001</td>\n",
              "      <td>1682446212</td>\n",
              "      <td>서울</td>\n",
              "      <td>202001</td>\n",
              "      <td>991578224067</td>\n",
              "    </tr>\n",
              "    <tr>\n",
              "      <th>97</th>\n",
              "      <td>서울</td>\n",
              "      <td>202002</td>\n",
              "      <td>1458394377</td>\n",
              "      <td>서울</td>\n",
              "      <td>202002</td>\n",
              "      <td>810412676550</td>\n",
              "    </tr>\n",
              "    <tr>\n",
              "      <th>98</th>\n",
              "      <td>서울</td>\n",
              "      <td>202003</td>\n",
              "      <td>1289506388</td>\n",
              "      <td>서울</td>\n",
              "      <td>202003</td>\n",
              "      <td>789796734433</td>\n",
              "    </tr>\n",
              "  </tbody>\n",
              "</table>\n",
              "</div>"
            ],
            "text/plain": [
              "    위치      날짜          매출 CARD_SIDO_NM  REG_YYMM            AMT\n",
              "88  서울  201905  2003754297           서울    201905  1057879226251\n",
              "89  서울  201906  1846608299           서울    201906  1014410284692\n",
              "90  서울  201907  1858854436           서울    201907  1037150538702\n",
              "91  서울  201908  1865251777           서울    201908  1011825174305\n",
              "92  서울  201909  1717807124           서울    201909   992187139385\n",
              "93  서울  201910  1815604623           서울    201910  1015079007773\n",
              "94  서울  201911  1782680446           서울    201911   986146232089\n",
              "95  서울  201912  1852893452           서울    201912  1075946191707\n",
              "96  서울  202001  1682446212           서울    202001   991578224067\n",
              "97  서울  202002  1458394377           서울    202002   810412676550\n",
              "98  서울  202003  1289506388           서울    202003   789796734433"
            ]
          },
          "metadata": {
            "tags": []
          },
          "execution_count": 101
        }
      ]
    },
    {
      "cell_type": "code",
      "metadata": {
        "id": "7L3eICX_Vtaf",
        "colab_type": "code",
        "colab": {
          "base_uri": "https://localhost:8080/",
          "height": 624
        },
        "outputId": "dfac9928-15e8-489a-9952-a10ade279506"
      },
      "source": [
        "seoul = df_merge_t[df_merge_t['위치']=='제주']\n",
        "print((seoul['AMT']/seoul['매출']).mean())\n",
        "print(seoul['AMT']/seoul['매출'])\n",
        "\n",
        "df_merge_t[df_merge_t['위치']=='제주']"
      ],
      "execution_count": 108,
      "outputs": [
        {
          "output_type": "stream",
          "text": [
            "1001.9754199735876\n",
            "143     930.431818\n",
            "144     945.531106\n",
            "145     927.713366\n",
            "146     827.651522\n",
            "147    1042.753016\n",
            "148     921.833815\n",
            "149     972.754682\n",
            "150     993.099480\n",
            "151    1035.585274\n",
            "152    1129.689716\n",
            "153    1294.685824\n",
            "dtype: float64\n"
          ],
          "name": "stdout"
        },
        {
          "output_type": "execute_result",
          "data": {
            "text/html": [
              "<div>\n",
              "<style scoped>\n",
              "    .dataframe tbody tr th:only-of-type {\n",
              "        vertical-align: middle;\n",
              "    }\n",
              "\n",
              "    .dataframe tbody tr th {\n",
              "        vertical-align: top;\n",
              "    }\n",
              "\n",
              "    .dataframe thead th {\n",
              "        text-align: right;\n",
              "    }\n",
              "</style>\n",
              "<table border=\"1\" class=\"dataframe\">\n",
              "  <thead>\n",
              "    <tr style=\"text-align: right;\">\n",
              "      <th></th>\n",
              "      <th>위치</th>\n",
              "      <th>날짜</th>\n",
              "      <th>매출</th>\n",
              "      <th>CARD_SIDO_NM</th>\n",
              "      <th>REG_YYMM</th>\n",
              "      <th>AMT</th>\n",
              "    </tr>\n",
              "  </thead>\n",
              "  <tbody>\n",
              "    <tr>\n",
              "      <th>143</th>\n",
              "      <td>제주</td>\n",
              "      <td>201905</td>\n",
              "      <td>104343812</td>\n",
              "      <td>제주</td>\n",
              "      <td>201905</td>\n",
              "      <td>97084802656</td>\n",
              "    </tr>\n",
              "    <tr>\n",
              "      <th>144</th>\n",
              "      <td>제주</td>\n",
              "      <td>201906</td>\n",
              "      <td>97960025</td>\n",
              "      <td>제주</td>\n",
              "      <td>201906</td>\n",
              "      <td>92624250758</td>\n",
              "    </tr>\n",
              "    <tr>\n",
              "      <th>145</th>\n",
              "      <td>제주</td>\n",
              "      <td>201907</td>\n",
              "      <td>102994840</td>\n",
              "      <td>제주</td>\n",
              "      <td>201907</td>\n",
              "      <td>95549689709</td>\n",
              "    </tr>\n",
              "    <tr>\n",
              "      <th>146</th>\n",
              "      <td>제주</td>\n",
              "      <td>201908</td>\n",
              "      <td>124918965</td>\n",
              "      <td>제주</td>\n",
              "      <td>201908</td>\n",
              "      <td>103389371548</td>\n",
              "    </tr>\n",
              "    <tr>\n",
              "      <th>147</th>\n",
              "      <td>제주</td>\n",
              "      <td>201909</td>\n",
              "      <td>84603768</td>\n",
              "      <td>제주</td>\n",
              "      <td>201909</td>\n",
              "      <td>88220834270</td>\n",
              "    </tr>\n",
              "    <tr>\n",
              "      <th>148</th>\n",
              "      <td>제주</td>\n",
              "      <td>201910</td>\n",
              "      <td>102107787</td>\n",
              "      <td>제주</td>\n",
              "      <td>201910</td>\n",
              "      <td>94126410878</td>\n",
              "    </tr>\n",
              "    <tr>\n",
              "      <th>149</th>\n",
              "      <td>제주</td>\n",
              "      <td>201911</td>\n",
              "      <td>93516034</td>\n",
              "      <td>제주</td>\n",
              "      <td>201911</td>\n",
              "      <td>90968159937</td>\n",
              "    </tr>\n",
              "    <tr>\n",
              "      <th>150</th>\n",
              "      <td>제주</td>\n",
              "      <td>201912</td>\n",
              "      <td>94840131</td>\n",
              "      <td>제주</td>\n",
              "      <td>201912</td>\n",
              "      <td>94185684769</td>\n",
              "    </tr>\n",
              "    <tr>\n",
              "      <th>151</th>\n",
              "      <td>제주</td>\n",
              "      <td>202001</td>\n",
              "      <td>90255750</td>\n",
              "      <td>제주</td>\n",
              "      <td>202001</td>\n",
              "      <td>93467525597</td>\n",
              "    </tr>\n",
              "    <tr>\n",
              "      <th>152</th>\n",
              "      <td>제주</td>\n",
              "      <td>202002</td>\n",
              "      <td>61592926</td>\n",
              "      <td>제주</td>\n",
              "      <td>202002</td>\n",
              "      <td>69580895083</td>\n",
              "    </tr>\n",
              "    <tr>\n",
              "      <th>153</th>\n",
              "      <td>제주</td>\n",
              "      <td>202003</td>\n",
              "      <td>54886749</td>\n",
              "      <td>제주</td>\n",
              "      <td>202003</td>\n",
              "      <td>71061095855</td>\n",
              "    </tr>\n",
              "  </tbody>\n",
              "</table>\n",
              "</div>"
            ],
            "text/plain": [
              "     위치      날짜         매출 CARD_SIDO_NM  REG_YYMM           AMT\n",
              "143  제주  201905  104343812           제주    201905   97084802656\n",
              "144  제주  201906   97960025           제주    201906   92624250758\n",
              "145  제주  201907  102994840           제주    201907   95549689709\n",
              "146  제주  201908  124918965           제주    201908  103389371548\n",
              "147  제주  201909   84603768           제주    201909   88220834270\n",
              "148  제주  201910  102107787           제주    201910   94126410878\n",
              "149  제주  201911   93516034           제주    201911   90968159937\n",
              "150  제주  201912   94840131           제주    201912   94185684769\n",
              "151  제주  202001   90255750           제주    202001   93467525597\n",
              "152  제주  202002   61592926           제주    202002   69580895083\n",
              "153  제주  202003   54886749           제주    202003   71061095855"
            ]
          },
          "metadata": {
            "tags": []
          },
          "execution_count": 108
        }
      ]
    },
    {
      "cell_type": "code",
      "metadata": {
        "id": "X7tVJMR4V3Ml",
        "colab_type": "code",
        "colab": {
          "base_uri": "https://localhost:8080/",
          "height": 408
        },
        "outputId": "5afc1484-51f5-4b96-9380-372255bc8dee"
      },
      "source": [
        "seoul = df_merge_t[df_merge_t['위치']=='경기']\n",
        "print((seoul['AMT']/seoul['매출']).mean())\n",
        "\n",
        "df_merge_t[df_merge_t['위치']=='경기']"
      ],
      "execution_count": 103,
      "outputs": [
        {
          "output_type": "stream",
          "text": [
            "758.0768610833398\n"
          ],
          "name": "stdout"
        },
        {
          "output_type": "execute_result",
          "data": {
            "text/html": [
              "<div>\n",
              "<style scoped>\n",
              "    .dataframe tbody tr th:only-of-type {\n",
              "        vertical-align: middle;\n",
              "    }\n",
              "\n",
              "    .dataframe tbody tr th {\n",
              "        vertical-align: top;\n",
              "    }\n",
              "\n",
              "    .dataframe thead th {\n",
              "        text-align: right;\n",
              "    }\n",
              "</style>\n",
              "<table border=\"1\" class=\"dataframe\">\n",
              "  <thead>\n",
              "    <tr style=\"text-align: right;\">\n",
              "      <th></th>\n",
              "      <th>위치</th>\n",
              "      <th>날짜</th>\n",
              "      <th>매출</th>\n",
              "      <th>CARD_SIDO_NM</th>\n",
              "      <th>REG_YYMM</th>\n",
              "      <th>AMT</th>\n",
              "    </tr>\n",
              "  </thead>\n",
              "  <tbody>\n",
              "    <tr>\n",
              "      <th>11</th>\n",
              "      <td>경기</td>\n",
              "      <td>201905</td>\n",
              "      <td>1440251488</td>\n",
              "      <td>경기</td>\n",
              "      <td>201905</td>\n",
              "      <td>1022940712376</td>\n",
              "    </tr>\n",
              "    <tr>\n",
              "      <th>12</th>\n",
              "      <td>경기</td>\n",
              "      <td>201906</td>\n",
              "      <td>1336141969</td>\n",
              "      <td>경기</td>\n",
              "      <td>201906</td>\n",
              "      <td>973243836766</td>\n",
              "    </tr>\n",
              "    <tr>\n",
              "      <th>13</th>\n",
              "      <td>경기</td>\n",
              "      <td>201907</td>\n",
              "      <td>1311685514</td>\n",
              "      <td>경기</td>\n",
              "      <td>201907</td>\n",
              "      <td>993145796590</td>\n",
              "    </tr>\n",
              "    <tr>\n",
              "      <th>14</th>\n",
              "      <td>경기</td>\n",
              "      <td>201908</td>\n",
              "      <td>1327026418</td>\n",
              "      <td>경기</td>\n",
              "      <td>201908</td>\n",
              "      <td>1005565560243</td>\n",
              "    </tr>\n",
              "    <tr>\n",
              "      <th>15</th>\n",
              "      <td>경기</td>\n",
              "      <td>201909</td>\n",
              "      <td>1244359130</td>\n",
              "      <td>경기</td>\n",
              "      <td>201909</td>\n",
              "      <td>987132548556</td>\n",
              "    </tr>\n",
              "    <tr>\n",
              "      <th>16</th>\n",
              "      <td>경기</td>\n",
              "      <td>201910</td>\n",
              "      <td>1324263438</td>\n",
              "      <td>경기</td>\n",
              "      <td>201910</td>\n",
              "      <td>992801160478</td>\n",
              "    </tr>\n",
              "    <tr>\n",
              "      <th>17</th>\n",
              "      <td>경기</td>\n",
              "      <td>201911</td>\n",
              "      <td>1258853108</td>\n",
              "      <td>경기</td>\n",
              "      <td>201911</td>\n",
              "      <td>949290373730</td>\n",
              "    </tr>\n",
              "    <tr>\n",
              "      <th>18</th>\n",
              "      <td>경기</td>\n",
              "      <td>201912</td>\n",
              "      <td>1247964285</td>\n",
              "      <td>경기</td>\n",
              "      <td>201912</td>\n",
              "      <td>989698638639</td>\n",
              "    </tr>\n",
              "    <tr>\n",
              "      <th>19</th>\n",
              "      <td>경기</td>\n",
              "      <td>202001</td>\n",
              "      <td>1279305821</td>\n",
              "      <td>경기</td>\n",
              "      <td>202001</td>\n",
              "      <td>961235225542</td>\n",
              "    </tr>\n",
              "    <tr>\n",
              "      <th>20</th>\n",
              "      <td>경기</td>\n",
              "      <td>202002</td>\n",
              "      <td>1096509991</td>\n",
              "      <td>경기</td>\n",
              "      <td>202002</td>\n",
              "      <td>800024984712</td>\n",
              "    </tr>\n",
              "    <tr>\n",
              "      <th>21</th>\n",
              "      <td>경기</td>\n",
              "      <td>202003</td>\n",
              "      <td>1069519468</td>\n",
              "      <td>경기</td>\n",
              "      <td>202003</td>\n",
              "      <td>870774248634</td>\n",
              "    </tr>\n",
              "  </tbody>\n",
              "</table>\n",
              "</div>"
            ],
            "text/plain": [
              "    위치      날짜          매출 CARD_SIDO_NM  REG_YYMM            AMT\n",
              "11  경기  201905  1440251488           경기    201905  1022940712376\n",
              "12  경기  201906  1336141969           경기    201906   973243836766\n",
              "13  경기  201907  1311685514           경기    201907   993145796590\n",
              "14  경기  201908  1327026418           경기    201908  1005565560243\n",
              "15  경기  201909  1244359130           경기    201909   987132548556\n",
              "16  경기  201910  1324263438           경기    201910   992801160478\n",
              "17  경기  201911  1258853108           경기    201911   949290373730\n",
              "18  경기  201912  1247964285           경기    201912   989698638639\n",
              "19  경기  202001  1279305821           경기    202001   961235225542\n",
              "20  경기  202002  1096509991           경기    202002   800024984712\n",
              "21  경기  202003  1069519468           경기    202003   870774248634"
            ]
          },
          "metadata": {
            "tags": []
          },
          "execution_count": 103
        }
      ]
    },
    {
      "cell_type": "code",
      "metadata": {
        "id": "3KYRmlskV9iz",
        "colab_type": "code",
        "colab": {
          "base_uri": "https://localhost:8080/",
          "height": 624
        },
        "outputId": "887404e6-9c25-4c39-984d-adda1c69d11a"
      },
      "source": [
        "seoul = df_merge_t[df_merge_t['위치']=='대전']\n",
        "print((seoul['AMT']/seoul['매출']).mean())\n",
        "print((seoul['AMT']/seoul['매출']))\n",
        "\n",
        "df_merge_t[df_merge_t['위치']=='대전']"
      ],
      "execution_count": 106,
      "outputs": [
        {
          "output_type": "stream",
          "text": [
            "641.1809163812038\n",
            "66    582.012979\n",
            "67    618.810311\n",
            "68    622.918027\n",
            "69    596.940216\n",
            "70    657.849735\n",
            "71    603.281637\n",
            "72    612.098574\n",
            "73    645.498005\n",
            "74    653.302796\n",
            "75    669.555573\n",
            "76    790.722229\n",
            "dtype: float64\n"
          ],
          "name": "stdout"
        },
        {
          "output_type": "execute_result",
          "data": {
            "text/html": [
              "<div>\n",
              "<style scoped>\n",
              "    .dataframe tbody tr th:only-of-type {\n",
              "        vertical-align: middle;\n",
              "    }\n",
              "\n",
              "    .dataframe tbody tr th {\n",
              "        vertical-align: top;\n",
              "    }\n",
              "\n",
              "    .dataframe thead th {\n",
              "        text-align: right;\n",
              "    }\n",
              "</style>\n",
              "<table border=\"1\" class=\"dataframe\">\n",
              "  <thead>\n",
              "    <tr style=\"text-align: right;\">\n",
              "      <th></th>\n",
              "      <th>위치</th>\n",
              "      <th>날짜</th>\n",
              "      <th>매출</th>\n",
              "      <th>CARD_SIDO_NM</th>\n",
              "      <th>REG_YYMM</th>\n",
              "      <th>AMT</th>\n",
              "    </tr>\n",
              "  </thead>\n",
              "  <tbody>\n",
              "    <tr>\n",
              "      <th>66</th>\n",
              "      <td>대전</td>\n",
              "      <td>201905</td>\n",
              "      <td>138769267</td>\n",
              "      <td>대전</td>\n",
              "      <td>201905</td>\n",
              "      <td>80765514444</td>\n",
              "    </tr>\n",
              "    <tr>\n",
              "      <th>67</th>\n",
              "      <td>대전</td>\n",
              "      <td>201906</td>\n",
              "      <td>124966058</td>\n",
              "      <td>대전</td>\n",
              "      <td>201906</td>\n",
              "      <td>77330285191</td>\n",
              "    </tr>\n",
              "    <tr>\n",
              "      <th>68</th>\n",
              "      <td>대전</td>\n",
              "      <td>201907</td>\n",
              "      <td>124894724</td>\n",
              "      <td>대전</td>\n",
              "      <td>201907</td>\n",
              "      <td>77799175027</td>\n",
              "    </tr>\n",
              "    <tr>\n",
              "      <th>69</th>\n",
              "      <td>대전</td>\n",
              "      <td>201908</td>\n",
              "      <td>130105023</td>\n",
              "      <td>대전</td>\n",
              "      <td>201908</td>\n",
              "      <td>77664920502</td>\n",
              "    </tr>\n",
              "    <tr>\n",
              "      <th>70</th>\n",
              "      <td>대전</td>\n",
              "      <td>201909</td>\n",
              "      <td>117493214</td>\n",
              "      <td>대전</td>\n",
              "      <td>201909</td>\n",
              "      <td>77292879677</td>\n",
              "    </tr>\n",
              "    <tr>\n",
              "      <th>71</th>\n",
              "      <td>대전</td>\n",
              "      <td>201910</td>\n",
              "      <td>127538179</td>\n",
              "      <td>대전</td>\n",
              "      <td>201910</td>\n",
              "      <td>76941441407</td>\n",
              "    </tr>\n",
              "    <tr>\n",
              "      <th>72</th>\n",
              "      <td>대전</td>\n",
              "      <td>201911</td>\n",
              "      <td>122120713</td>\n",
              "      <td>대전</td>\n",
              "      <td>201911</td>\n",
              "      <td>74749914227</td>\n",
              "    </tr>\n",
              "    <tr>\n",
              "      <th>73</th>\n",
              "      <td>대전</td>\n",
              "      <td>201912</td>\n",
              "      <td>124224134</td>\n",
              "      <td>대전</td>\n",
              "      <td>201912</td>\n",
              "      <td>80186430707</td>\n",
              "    </tr>\n",
              "    <tr>\n",
              "      <th>74</th>\n",
              "      <td>대전</td>\n",
              "      <td>202001</td>\n",
              "      <td>118390111</td>\n",
              "      <td>대전</td>\n",
              "      <td>202001</td>\n",
              "      <td>77344590487</td>\n",
              "    </tr>\n",
              "    <tr>\n",
              "      <th>75</th>\n",
              "      <td>대전</td>\n",
              "      <td>202002</td>\n",
              "      <td>97095594</td>\n",
              "      <td>대전</td>\n",
              "      <td>202002</td>\n",
              "      <td>65010896084</td>\n",
              "    </tr>\n",
              "    <tr>\n",
              "      <th>76</th>\n",
              "      <td>대전</td>\n",
              "      <td>202003</td>\n",
              "      <td>83122795</td>\n",
              "      <td>대전</td>\n",
              "      <td>202003</td>\n",
              "      <td>65727041723</td>\n",
              "    </tr>\n",
              "  </tbody>\n",
              "</table>\n",
              "</div>"
            ],
            "text/plain": [
              "    위치      날짜         매출 CARD_SIDO_NM  REG_YYMM          AMT\n",
              "66  대전  201905  138769267           대전    201905  80765514444\n",
              "67  대전  201906  124966058           대전    201906  77330285191\n",
              "68  대전  201907  124894724           대전    201907  77799175027\n",
              "69  대전  201908  130105023           대전    201908  77664920502\n",
              "70  대전  201909  117493214           대전    201909  77292879677\n",
              "71  대전  201910  127538179           대전    201910  76941441407\n",
              "72  대전  201911  122120713           대전    201911  74749914227\n",
              "73  대전  201912  124224134           대전    201912  80186430707\n",
              "74  대전  202001  118390111           대전    202001  77344590487\n",
              "75  대전  202002   97095594           대전    202002  65010896084\n",
              "76  대전  202003   83122795           대전    202003  65727041723"
            ]
          },
          "metadata": {
            "tags": []
          },
          "execution_count": 106
        }
      ]
    },
    {
      "cell_type": "code",
      "metadata": {
        "id": "5oMzCqyiW3xa",
        "colab_type": "code",
        "colab": {}
      },
      "source": [
        ""
      ],
      "execution_count": 105,
      "outputs": []
    }
  ]
}