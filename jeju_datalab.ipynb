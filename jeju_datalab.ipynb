{
  "nbformat": 4,
  "nbformat_minor": 0,
  "metadata": {
    "colab": {
      "name": "jeju_datalab.ipynb",
      "provenance": [],
      "authorship_tag": "ABX9TyOqCOdrq4IY0usRSC/yTeFU",
      "include_colab_link": true
    },
    "kernelspec": {
      "name": "python3",
      "display_name": "Python 3"
    }
  },
  "cells": [
    {
      "cell_type": "markdown",
      "metadata": {
        "id": "view-in-github",
        "colab_type": "text"
      },
      "source": [
        "<a href=\"https://colab.research.google.com/github/ssilb4/colab/blob/jeju/jeju_datalab.ipynb\" target=\"_parent\"><img src=\"https://colab.research.google.com/assets/colab-badge.svg\" alt=\"Open In Colab\"/></a>"
      ]
    },
    {
      "cell_type": "code",
      "metadata": {
        "id": "76blBG0pnpXc",
        "colab_type": "code",
        "colab": {}
      },
      "source": [
        "import pandas as pd"
      ],
      "execution_count": 1,
      "outputs": []
    },
    {
      "cell_type": "code",
      "metadata": {
        "id": "L6MkIpMMqGQY",
        "colab_type": "code",
        "colab": {}
      },
      "source": [
        "df = pd.read_csv('https://raw.githubusercontent.com/ssilb4/gitflow/master/data/output_datalab3.csv?token=AEXPY5BLPSGW65IGDQNON4K7CTT5A')"
      ],
      "execution_count": 2,
      "outputs": []
    },
    {
      "cell_type": "code",
      "metadata": {
        "id": "g5mMtncBqLZr",
        "colab_type": "code",
        "colab": {
          "base_uri": "https://localhost:8080/",
          "height": 71
        },
        "outputId": "bef447c7-c871-44a0-ccf5-4716ed85fde5"
      },
      "source": [
        "df['위치'].unique()"
      ],
      "execution_count": 74,
      "outputs": [
        {
          "output_type": "execute_result",
          "data": {
            "text/plain": [
              "array(['서울특별시', '경기도', '부산광역시', '경상남도', '인천광역시', '대구광역시', '경상북도', '강원도',\n",
              "       '충청남도', '전라남도', '대전광역시', '울산광역시', '충청북도', '전라북도', '제주특별자치도',\n",
              "       '광주광역시'], dtype=object)"
            ]
          },
          "metadata": {
            "tags": []
          },
          "execution_count": 74
        }
      ]
    },
    {
      "cell_type": "code",
      "metadata": {
        "id": "4m7YINY_r6Rs",
        "colab_type": "code",
        "colab": {
          "base_uri": "https://localhost:8080/",
          "height": 179
        },
        "outputId": "a0a2bd99-a05e-44ff-a473-f14dc528df49"
      },
      "source": [
        "df2[['매출','날짜']].info()"
      ],
      "execution_count": 16,
      "outputs": [
        {
          "output_type": "stream",
          "text": [
            "<class 'pandas.core.frame.DataFrame'>\n",
            "Int64Index: 84 entries, 0 to 1328\n",
            "Data columns (total 2 columns):\n",
            " #   Column  Non-Null Count  Dtype\n",
            "---  ------  --------------  -----\n",
            " 0   매출      84 non-null     int64\n",
            " 1   날짜      84 non-null     int64\n",
            "dtypes: int64(2)\n",
            "memory usage: 2.0 KB\n"
          ],
          "name": "stdout"
        }
      ]
    },
    {
      "cell_type": "code",
      "metadata": {
        "id": "-gZBpp_BqMYr",
        "colab_type": "code",
        "colab": {}
      },
      "source": [
        "import matplotlib.pyplot as plt\n",
        "\n",
        "df_seoul = df[df['위치']=='서울특별시']\n",
        "df_seoul.index = pd.to_datetime(df_seoul[\"날짜\"],format=\"%Y%m%d\")\n"
      ],
      "execution_count": 67,
      "outputs": []
    },
    {
      "cell_type": "code",
      "metadata": {
        "id": "W3gszROkwi-S",
        "colab_type": "code",
        "colab": {}
      },
      "source": [
        "import numpy as np"
      ],
      "execution_count": 51,
      "outputs": []
    },
    {
      "cell_type": "code",
      "metadata": {
        "id": "D75afQ7wz_xO",
        "colab_type": "code",
        "colab": {}
      },
      "source": [
        "work_types=['eatery','fbeauty','hobbyenter','leisure','living','tour']"
      ],
      "execution_count": 85,
      "outputs": []
    },
    {
      "cell_type": "code",
      "metadata": {
        "id": "np3l0kkCswQA",
        "colab_type": "code",
        "colab": {
          "base_uri": "https://localhost:8080/",
          "height": 276
        },
        "outputId": "fc9c2c8c-ed8d-400b-aa30-13b97493b61c"
      },
      "source": [
        "index = 0\n",
        "colors = ['ro','bo','mo','yo','go','co']\n",
        "for work_type in df['업종'].drop_duplicates():\n",
        "  df_seoul = df[(df['위치']=='서울특별시') & (df['업종']==work_type)]\n",
        "  df_seoul.index = pd.to_datetime(df_seoul[\"날짜\"],format=\"%Y%m%d\")\n",
        "  plt.plot(df_seoul.index,df_seoul['매출'],colors[index], label=work_types[index])\n",
        "  index += 1\n",
        "  #plt.ylabel('some numbers')\n",
        "plt.legend()\n",
        "plt.show()"
      ],
      "execution_count": 95,
      "outputs": [
        {
          "output_type": "display_data",
          "data": {
            "image/png": "[encoded data removed]",
            "text/plain": [
              "<Figure size 432x288 with 1 Axes>"
            ]
          },
          "metadata": {
            "tags": [],
            "needs_background": "light"
          }
        }
      ]
    },
    {
      "cell_type": "code",
      "metadata": {
        "id": "LaerRmM5y3uo",
        "colab_type": "code",
        "colab": {
          "base_uri": "https://localhost:8080/",
          "height": 276
        },
        "outputId": "1287a05e-042f-4ea3-bf40-980c87464a45"
      },
      "source": [
        "index = 0\n",
        "colors = ['ro','bo','mo','yo','go','co']\n",
        "for work_type in df['업종'].drop_duplicates():\n",
        "  df_jeju = df[(df['위치']=='제주특별자치도') & (df['업종']==work_type)]\n",
        "  df_jeju.index = pd.to_datetime(df_jeju[\"날짜\"],format=\"%Y%m%d\")\n",
        "  plt.plot(df_jeju.index,df_jeju['매출'],colors[index], label=work_types[index])\n",
        "  index += 1\n",
        "  #plt.ylabel('some numbers')\n",
        "plt.legend()\n",
        "plt.show()"
      ],
      "execution_count": 97,
      "outputs": [
        {
          "output_type": "display_data",
          "data": {
            "image/png": "[encoded data removed]",
            "text/plain": [
              "<Figure size 432x288 with 1 Axes>"
            ]
          },
          "metadata": {
            "tags": [],
            "needs_background": "light"
          }
        }
      ]
    },
    {
      "cell_type": "code",
      "metadata": {
        "id": "2dTWi_Hew_sy",
        "colab_type": "code",
        "colab": {
          "base_uri": "https://localhost:8080/",
          "height": 143
        },
        "outputId": "f01346a7-f341-4369-87a6-2731470bea2e"
      },
      "source": [
        ""
      ],
      "execution_count": 76,
      "outputs": [
        {
          "output_type": "execute_result",
          "data": {
            "text/plain": [
              "0           eatery\n",
              "208        fbeauty\n",
              "416     hobbyenter\n",
              "624        leisure\n",
              "832         living\n",
              "1040          tour\n",
              "Name: 업종, dtype: object"
            ]
          },
          "metadata": {
            "tags": []
          },
          "execution_count": 76
        }
      ]
    },
    {
      "cell_type": "code",
      "metadata": {
        "id": "uCDxQkdyz184",
        "colab_type": "code",
        "colab": {}
      },
      "source": [
        ""
      ],
      "execution_count": null,
      "outputs": []
    }
  ]
}